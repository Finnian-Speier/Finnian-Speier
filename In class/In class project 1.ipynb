{
 "cells": [
  {
   "cell_type": "code",
   "execution_count": 1,
   "id": "376bb156",
   "metadata": {},
   "outputs": [
    {
     "name": "stdout",
     "output_type": "stream",
     "text": [
      "Somthing funny\n"
     ]
    }
   ],
   "source": [
    "print(\"Somthing funny\")\n"
   ]
  },
  {
   "cell_type": "code",
   "execution_count": 2,
   "id": "154f2e7a",
   "metadata": {},
   "outputs": [
    {
     "name": "stdout",
     "output_type": "stream",
     "text": [
      "Somthing funny\n"
     ]
    }
   ],
   "source": [
    "object=\"Somthing funny\"\n",
    "print(object)"
   ]
  },
  {
   "cell_type": "code",
   "execution_count": 6,
   "id": "68fe1083",
   "metadata": {},
   "outputs": [
    {
     "name": "stdout",
     "output_type": "stream",
     "text": [
      "FINNIAN SPEIER\n",
      "Finnian Speier\n"
     ]
    }
   ],
   "source": [
    "Name=\"finnian speier\"\n",
    "Name_caps=Name.upper()\n",
    "print(Name_caps)\n",
    "Name_Title=Name.title()\n",
    "print(Name_Title)"
   ]
  },
  {
   "cell_type": "code",
   "execution_count": 9,
   "id": "0b6917ee",
   "metadata": {},
   "outputs": [
    {
     "name": "stdout",
     "output_type": "stream",
     "text": [
      "Finnian Speier\n"
     ]
    }
   ],
   "source": [
    "Name=\"Finnian\"+ \" \"+\"Speier\"\n",
    "print(Name)"
   ]
  },
  {
   "cell_type": "code",
   "execution_count": 11,
   "id": "0fd0aedb",
   "metadata": {},
   "outputs": [
    {
     "name": "stdout",
     "output_type": "stream",
     "text": [
      "To be or not to be this the question Weather it is nobler to suffler the slings and arrows\n"
     ]
    }
   ],
   "source": [
    "Line1=\"To be or not to be\"\n",
    "Line2=\"this the question\"\n",
    "Line3=\"Weather it is nobler to suffler the slings and arrows\"\n",
    "print(Line1+Line2+Line3)"
   ]
  },
  {
   "cell_type": "code",
   "execution_count": 12,
   "id": "d662b888",
   "metadata": {},
   "outputs": [
    {
     "name": "stdout",
     "output_type": "stream",
     "text": [
      "To be or not to be this the question Weather it is nobler to suffler the slings and arrows\n"
     ]
    }
   ],
   "source": [
    "Line1=\"To be or not to be\"\n",
    "Line2=\"this the question\"\n",
    "Line3=\"Weather it is nobler to suffler the slings and arrows\"\n",
    "print(Line1, Line2, Line3)"
   ]
  },
  {
   "cell_type": "code",
   "execution_count": 13,
   "id": "76f751c0",
   "metadata": {},
   "outputs": [
    {
     "name": "stdout",
     "output_type": "stream",
     "text": [
      "To be or not to be this the question Weather it is nobler to suffler the slings and arrows \n"
     ]
    }
   ],
   "source": [
    "Line1=\"To be or not to be \"\n",
    "Line2=\"this the question \"\n",
    "Line3=\"Weather it is nobler to suffler the slings and arrows \"\n",
    "print(Line1+Line2+Line3)"
   ]
  },
  {
   "cell_type": "code",
   "execution_count": 20,
   "id": "76f9ff88",
   "metadata": {},
   "outputs": [
    {
     "name": "stdout",
     "output_type": "stream",
     "text": [
      "To be or not to bethis the questionWeather it is nobler to suffler the slings and arrows\n"
     ]
    }
   ],
   "source": [
    "Line1=\"To be or not to be\"\n",
    "Line2=\"this the question\"\n",
    "Line3=\"Weather it is nobler to suffler the slings and arrows\"\n",
    "print(Line1,Line2,Line3, sep=\"\")"
   ]
  },
  {
   "cell_type": "code",
   "execution_count": 23,
   "id": "6f2c62da",
   "metadata": {},
   "outputs": [
    {
     "name": "stdout",
     "output_type": "stream",
     "text": [
      "To be or not to be\n",
      "this the question\n",
      "Weather it is nobler to suffler the slings and arrows\n"
     ]
    }
   ],
   "source": [
    "Line1=\"To be or not to be\"\n",
    "Line2=\"this the question\"\n",
    "Line3=\"Weather it is nobler to suffler the slings and arrows\"\n",
    "print(Line1+ \"\\n\" + Line2+ \"\\n\" + Line3)"
   ]
  },
  {
   "cell_type": "code",
   "execution_count": 24,
   "id": "9c53a67b",
   "metadata": {},
   "outputs": [
    {
     "name": "stdout",
     "output_type": "stream",
     "text": [
      "To be or not to be\n",
      "this the question\n",
      "Weather it is nobler to suffler the slings and arrows\n"
     ]
    }
   ],
   "source": [
    "Line1=\"To be or not to be\"\n",
    "Line2=\"this the question\"\n",
    "Line3=\"Weather it is nobler to suffler the slings and arrows\"\n",
    "print(Line1,Line2,Line3, sep=\"\\n\")"
   ]
  },
  {
   "cell_type": "code",
   "execution_count": 26,
   "id": "54b02d29",
   "metadata": {},
   "outputs": [
    {
     "name": "stdout",
     "output_type": "stream",
     "text": [
      "Say's Law is 'supply creats a dammand all its own.'\n",
      "Says Law is \"supply creats a dammand all its own.\"\n"
     ]
    }
   ],
   "source": [
    "Single_in_double=(\"Say's Law is 'supply creats a dammand all its own.'\")\n",
    "Double_in_single=('Says Law is \"supply creats a dammand all its own.\"')\n",
    "print(Single_in_double,Double_in_single,sep=\"\\n\")"
   ]
  },
  {
   "cell_type": "code",
   "execution_count": 29,
   "id": "3f16f473",
   "metadata": {},
   "outputs": [
    {
     "name": "stdout",
     "output_type": "stream",
     "text": [
      "Say's law\n",
      "The so called \"beef\"\n",
      "\"\\\" is a charicter that sees little use\n",
      "Say\n",
      "My\n",
      "Name\n",
      "The bill of rights\n",
      "\tWas written a long time ago\n"
     ]
    }
   ],
   "source": [
    "single='Say\\'s law'\n",
    "double=\"The so called \\\"beef\\\"\"\n",
    "backslash=\"\\\"\\\\\\\" is a charicter that sees little use\"\n",
    "line=\"Say\\nMy\\nName\"\n",
    "line_tab=\"The bill of rights\\n\\tWas written a long time ago\"\n",
    "print(single)\n",
    "print(double)\n",
    "print(backslash)\n",
    "print(line)\n",
    "print(line_tab)"
   ]
  },
  {
   "cell_type": "code",
   "execution_count": 42,
   "id": "b30d9076",
   "metadata": {},
   "outputs": [
    {
     "name": "stdout",
     "output_type": "stream",
     "text": [
      "we have some space:\n",
      "              Space!              \n",
      "Space!              \n",
      "             Space!\n",
      "Space!\n"
     ]
    }
   ],
   "source": [
    "space=\"             Space!              \"\n",
    "print(\"we have some space:\\n\",space)\n",
    "no_left_space=space.lstrip()\n",
    "no_right_space=space.rstrip()\n",
    "no_space=space.strip()\n",
    "print(no_left_space)\n",
    "print(no_right_space)\n",
    "print(no_space)"
   ]
  },
  {
   "cell_type": "code",
   "execution_count": 43,
   "id": "14f4c9b1",
   "metadata": {},
   "outputs": [
    {
     "name": "stdout",
     "output_type": "stream",
     "text": [
      "       Im the very modle of a modern major general          \n",
      "Imtheverymodleofamodernmajorgeneral\n"
     ]
    }
   ],
   "source": [
    "major=\"       Im the very modle of a modern major general          \"\n",
    "print(major)\n",
    "spacless_major=major.replace(\" \",\"\")\n",
    "print(spacless_major)"
   ]
  },
  {
   "cell_type": "code",
   "execution_count": 45,
   "id": "eaf4e318",
   "metadata": {},
   "outputs": [
    {
     "name": "stdout",
     "output_type": "stream",
     "text": [
      "This is how you write a paper in python I would think. \n",
      "    If that was something you wanted to do\n"
     ]
    }
   ],
   "source": [
    "stuff=\"\"\"\\\n",
    "This is how you write a paper in python I would think. \n",
    "    If that was something you wanted to do\"\"\"\n",
    "print(stuff)"
   ]
  },
  {
   "cell_type": "code",
   "execution_count": 48,
   "id": "1ea17f4d",
   "metadata": {},
   "outputs": [
    {
     "name": "stdout",
     "output_type": "stream",
     "text": [
      "4\n",
      "22\n"
     ]
    }
   ],
   "source": [
    "second_grander=2+2\n",
    "first_grader=\"2\"+\"2\"\n",
    "print(second_grander)\n",
    "print(first_grader)"
   ]
  },
  {
   "cell_type": "code",
   "execution_count": 50,
   "id": "48f6a229",
   "metadata": {},
   "outputs": [
    {
     "name": "stdout",
     "output_type": "stream",
     "text": [
      "first num: 0.6666666666666666 \n",
      "second num: 0.7142857142857143 \n",
      "third num: 1.8571428571428572\n"
     ]
    }
   ],
   "source": [
    "firstnum=2/3\n",
    "secondnum=5/7\n",
    "thridnum=13/7\n",
    "print(\"first num:\", firstnum, \"\\nsecond num:\", secondnum, \"\\nthird num:\", thridnum)"
   ]
  },
  {
   "cell_type": "code",
   "execution_count": 52,
   "id": "63e050ef",
   "metadata": {},
   "outputs": [
    {
     "name": "stdout",
     "output_type": "stream",
     "text": [
      "3.238095238095238\n"
     ]
    },
    {
     "ename": "TypeError",
     "evalue": "unsupported operand type(s) for +: 'float' and 'str'",
     "output_type": "error",
     "traceback": [
      "\u001b[1;31m---------------------------------------------------------------------------\u001b[0m",
      "\u001b[1;31mTypeError\u001b[0m                                 Traceback (most recent call last)",
      "\u001b[1;32m<ipython-input-52-a599bd245f1a>\u001b[0m in \u001b[0;36m<module>\u001b[1;34m\u001b[0m\n\u001b[0;32m      1\u001b[0m \u001b[0mtotal\u001b[0m\u001b[1;33m=\u001b[0m\u001b[0mfirstnum\u001b[0m\u001b[1;33m+\u001b[0m\u001b[0msecondnum\u001b[0m\u001b[1;33m+\u001b[0m\u001b[0mthridnum\u001b[0m\u001b[1;33m\u001b[0m\u001b[1;33m\u001b[0m\u001b[0m\n\u001b[0;32m      2\u001b[0m \u001b[0mprint\u001b[0m\u001b[1;33m(\u001b[0m\u001b[0mtotal\u001b[0m\u001b[1;33m)\u001b[0m\u001b[1;33m\u001b[0m\u001b[1;33m\u001b[0m\u001b[0m\n\u001b[1;32m----> 3\u001b[1;33m \u001b[0mprint\u001b[0m\u001b[1;33m(\u001b[0m\u001b[0mtotal\u001b[0m\u001b[1;33m+\u001b[0m \u001b[1;34m\"firstnum+ secondnum+ thirdnum\"\u001b[0m\u001b[1;33m)\u001b[0m\u001b[1;33m\u001b[0m\u001b[1;33m\u001b[0m\u001b[0m\n\u001b[0m",
      "\u001b[1;31mTypeError\u001b[0m: unsupported operand type(s) for +: 'float' and 'str'"
     ]
    }
   ],
   "source": [
    "total=firstnum+secondnum+thridnum\n",
    "print(total)\n",
    "print(total+ \"firstnum+ secondnum+ thirdnum\")"
   ]
  },
  {
   "cell_type": "code",
   "execution_count": 53,
   "id": "ae33e07b",
   "metadata": {},
   "outputs": [
    {
     "name": "stdout",
     "output_type": "stream",
     "text": [
      "3.238095238095238firstnum+ secondnum+ thirdnum\n"
     ]
    }
   ],
   "source": [
    "print(str(total)+ \"firstnum+ secondnum+ thirdnum\")"
   ]
  },
  {
   "cell_type": "code",
   "execution_count": 54,
   "id": "e2d08dcb",
   "metadata": {},
   "outputs": [
    {
     "name": "stdout",
     "output_type": "stream",
     "text": [
      "sys.float_info(max=1.7976931348623157e+308, max_exp=1024, max_10_exp=308, min=2.2250738585072014e-308, min_exp=-1021, min_10_exp=-307, dig=15, mant_dig=53, epsilon=2.220446049250313e-16, radix=2, rounds=1)\n"
     ]
    }
   ],
   "source": [
    "import sys\n",
    "print(sys.float_info)"
   ]
  },
  {
   "cell_type": "code",
   "execution_count": 61,
   "id": "1dfa188b",
   "metadata": {},
   "outputs": [
    {
     "name": "stdout",
     "output_type": "stream",
     "text": [
      "4.4799702566138357e+307\n"
     ]
    },
    {
     "ename": "OverflowError",
     "evalue": "(34, 'Result too large')",
     "output_type": "error",
     "traceback": [
      "\u001b[1;31m---------------------------------------------------------------------------\u001b[0m",
      "\u001b[1;31mOverflowError\u001b[0m                             Traceback (most recent call last)",
      "\u001b[1;32m<ipython-input-61-ed4a0816a2df>\u001b[0m in \u001b[0;36m<module>\u001b[1;34m\u001b[0m\n\u001b[0;32m      1\u001b[0m \u001b[0mprint\u001b[0m\u001b[1;33m(\u001b[0m\u001b[1;36m9.9\u001b[0m\u001b[1;33m**\u001b[0m\u001b[1;36m309\u001b[0m\u001b[1;33m)\u001b[0m\u001b[1;33m\u001b[0m\u001b[1;33m\u001b[0m\u001b[0m\n\u001b[1;32m----> 2\u001b[1;33m \u001b[0mprint\u001b[0m\u001b[1;33m(\u001b[0m\u001b[1;36m9.9\u001b[0m\u001b[1;33m**\u001b[0m\u001b[1;36m310\u001b[0m\u001b[1;33m)\u001b[0m\u001b[1;33m\u001b[0m\u001b[1;33m\u001b[0m\u001b[0m\n\u001b[0m",
      "\u001b[1;31mOverflowError\u001b[0m: (34, 'Result too large')"
     ]
    }
   ],
   "source": [
    "print(9.9**309)\n",
    "print(9.9**310)"
   ]
  },
  {
   "cell_type": "code",
   "execution_count": 63,
   "id": "aab684ba",
   "metadata": {},
   "outputs": [
    {
     "name": "stdout",
     "output_type": "stream",
     "text": [
      "big is of <class 'float'> and equals 1.2007878540600391e+165\n",
      "bigger is of <class 'float'> and equals 1.6223494755437399e+236\n"
     ]
    }
   ],
   "source": [
    "big = 1.45 ** 1023\n",
    "print(\"big is of\", type(x), \"and equals\", x)\n",
    "bigger = 1.7 ** 1025\n",
    "print(\"bigger is of\", type(y), \"and equals\", y)"
   ]
  },
  {
   "cell_type": "code",
   "execution_count": null,
   "id": "f75c07fe",
   "metadata": {},
   "outputs": [],
   "source": []
  }
 ],
 "metadata": {
  "kernelspec": {
   "display_name": "Python 3",
   "language": "python",
   "name": "python3"
  },
  "language_info": {
   "codemirror_mode": {
    "name": "ipython",
    "version": 3
   },
   "file_extension": ".py",
   "mimetype": "text/x-python",
   "name": "python",
   "nbconvert_exporter": "python",
   "pygments_lexer": "ipython3",
   "version": "3.8.8"
  }
 },
 "nbformat": 4,
 "nbformat_minor": 5
}
