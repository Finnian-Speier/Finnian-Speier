{
 "cells": [
  {
   "cell_type": "code",
   "execution_count": 3,
   "id": "d41c9903",
   "metadata": {},
   "outputs": [
    {
     "name": "stdout",
     "output_type": "stream",
     "text": [
      "[]\n",
      "[1, 2]\n",
      "[0.5, 0.7]\n",
      "['vinnila', 'chocolot', 'straberry']\n",
      "['rabbits feet', 7, 0.49]\n"
     ]
    }
   ],
   "source": [
    "reasons_to_cut_off_toes=[]\n",
    "whole_numbers_bellow_3=[1,2]\n",
    "non_whole_numbers=[0.5,0.7]\n",
    "icecream_flavors=[\"vinnila\",\"chocolot\",\"straberry\"]\n",
    "lucky_things=[\"rabbits feet\",7,0.49]\n",
    "print(reasons_to_cut_off_toes)\n",
    "print(whole_numbers_bellow_3)\n",
    "print(non_whole_numbers)\n",
    "print(icecream_flavors)\n",
    "print(lucky_things)"
   ]
  },
  {
   "cell_type": "code",
   "execution_count": 4,
   "id": "ce1e5db6",
   "metadata": {},
   "outputs": [
    {
     "name": "stdout",
     "output_type": "stream",
     "text": [
      "[1, 4, 9, 1, 8, 27]\n"
     ]
    }
   ],
   "source": [
    "partA=[1,4,9]\n",
    "partB=[1,8,27]\n",
    "AB=partA+partB\n",
    "print(AB)"
   ]
  },
  {
   "cell_type": "code",
   "execution_count": 5,
   "id": "559b9d19",
   "metadata": {},
   "outputs": [
    {
     "name": "stdout",
     "output_type": "stream",
     "text": [
      "1\n",
      "16\n",
      "81\n",
      "1\n",
      "64\n",
      "729\n"
     ]
    }
   ],
   "source": [
    "for i in AB:\n",
    "    print(i**2)"
   ]
  },
  {
   "cell_type": "code",
   "execution_count": 6,
   "id": "1328a278",
   "metadata": {},
   "outputs": [
    {
     "name": "stdout",
     "output_type": "stream",
     "text": [
      "[0, 1, 2, 3, 4, 5]\n",
      "[7, 8, 9, 10, 11, 12, 13, 14, 15, 16]\n",
      "[1, 14, 27, 40, 53, 66, 79, 92]\n"
     ]
    }
   ],
   "source": [
    "x = list(range(6))\n",
    "y = list(range(7,17))\n",
    "z = list(range(1,100,13))\n",
    "\n",
    "print(x)\n",
    "print(y)\n",
    "print(z)"
   ]
  },
  {
   "cell_type": "code",
   "execution_count": 11,
   "id": "4333fa68",
   "metadata": {},
   "outputs": [
    {
     "name": "stdout",
     "output_type": "stream",
     "text": [
      "0\n",
      "1\n",
      "2\n",
      "3\n",
      "4\n",
      "5\n",
      "6\n",
      "7\n",
      "8\n",
      "9\n",
      "10\n",
      "11\n",
      "12\n",
      "13\n",
      "14\n",
      "15\n",
      "16\n",
      "17\n",
      "18\n",
      "19\n",
      "20\n",
      "21\n",
      "22\n",
      "23\n",
      "24\n",
      "25\n",
      "26\n",
      "27\n",
      "28\n",
      "29\n",
      "30\n",
      "31\n",
      "32\n",
      "33\n",
      "34\n",
      "35\n",
      "36\n",
      "37\n",
      "38\n",
      "39\n",
      "40\n",
      "41\n",
      "42\n",
      "43\n",
      "44\n"
     ]
    }
   ],
   "source": [
    "for p in range(0,45,1):\n",
    "    print(p)\n"
   ]
  },
  {
   "cell_type": "code",
   "execution_count": 15,
   "id": "08571931",
   "metadata": {},
   "outputs": [
    {
     "name": "stdout",
     "output_type": "stream",
     "text": [
      "0\n",
      "1\n",
      "2\n",
      "3\n",
      "4\n"
     ]
    }
   ],
   "source": [
    "g=[1,2,3,4,5]\n",
    "for i in range(len(g)):\n",
    "    print(i)"
   ]
  },
  {
   "cell_type": "code",
   "execution_count": 16,
   "id": "6e88b503",
   "metadata": {},
   "outputs": [
    {
     "name": "stdout",
     "output_type": "stream",
     "text": [
      "nums elements: 1 2 3 4 5\n",
      "squars elements: 1 4 9 16 25\n",
      "numsAndSquars elements: [1, 2, 3, 4, 5, 6, 1, 4, 9, 16, 25, 36]\n"
     ]
    }
   ],
   "source": [
    "nums = [1, 2, 3, 4, 5, 6]\n",
    "squars = [1, 4, 9, 16, 25, 36]\n",
    "\n",
    "print(\"nums elements:\", nums[0], nums[1], nums[2], nums[3], nums[4])\n",
    "print(\"squars elements:\", squars[0], squars[1], squars[2], squars[3], squars[4])\n",
    "\n",
    "numsAndSquars = []\n",
    "j = len(nums)\n",
    "for i in range(j):\n",
    "    numsAndSquars.append(nums[i])\n",
    "\n",
    "k = len(squars)\n",
    "for i in range(k):\n",
    "    numsAndSquars.append(squars[i])\n",
    "\n",
    "print(\"numsAndSquars elements:\", numsAndSquars)\n"
   ]
  },
  {
   "cell_type": "code",
   "execution_count": 19,
   "id": "5272d987",
   "metadata": {},
   "outputs": [
    {
     "name": "stdout",
     "output_type": "stream",
     "text": [
      "times: morning noon night\n",
      "activties: running coding game\n",
      "['morning', 'noon', 'night']\n"
     ]
    }
   ],
   "source": [
    "time=[\"morning\",\"noon\",\"night\"]\n",
    "activity=[\"running\",\"coding\",\"game\"]\n",
    "print(\"times:\", time[0], time[1], time[2])\n",
    "print(\"activties:\", activity[0], activity[1], activity[2])\n",
    "thing=[]\n",
    "g=len(time)\n",
    "for i in range (g):\n",
    "    thing.append(time[i])\n",
    "print(thing)\n",
    "\n",
    "\n"
   ]
  },
  {
   "cell_type": "code",
   "execution_count": 23,
   "id": "2aebab0c",
   "metadata": {},
   "outputs": [
    {
     "name": "stdout",
     "output_type": "stream",
     "text": [
      "times: morning noon night\n",
      "activties: running coding game\n",
      "Things: ['nightgame', 'nooncoding', 'morningrunning']\n"
     ]
    }
   ],
   "source": [
    "time=[\"morning\",\"noon\",\"night\"]\n",
    "activity=[\"running\",\"coding\",\"game\"]\n",
    "print(\"times:\", time[0], time[1], time[2])\n",
    "print(\"activties:\", activity[0], activity[1], activity[2])\n",
    "thing=[]\n",
    "g=len(time)\n",
    "for i in range (g):\n",
    "    thing.insert(0,time[i] + activity[i])\n",
    "print(\"Things: \"+str(thing))"
   ]
  },
  {
   "cell_type": "code",
   "execution_count": 27,
   "id": "89667224",
   "metadata": {},
   "outputs": [
    {
     "name": "stdout",
     "output_type": "stream",
     "text": [
      "runner\n"
     ]
    }
   ],
   "source": [
    "if True:\n",
    "    print(\"runner\")"
   ]
  },
  {
   "cell_type": "code",
   "execution_count": null,
   "id": "f8646476",
   "metadata": {},
   "outputs": [],
   "source": [
    "if True:\n",
    "    print(\"runner\")\n",
    "else:\n",
    "    print(\"walker\")"
   ]
  },
  {
   "cell_type": "code",
   "execution_count": null,
   "id": "346f21c3",
   "metadata": {},
   "outputs": [],
   "source": [
    "if False:\n",
    "    print(\"runner\")\n",
    "else:\n",
    "    pass"
   ]
  },
  {
   "cell_type": "code",
   "execution_count": 28,
   "id": "6fdc5018",
   "metadata": {},
   "outputs": [
    {
     "name": "stdout",
     "output_type": "stream",
     "text": [
      "times: morning noon night\n",
      "activties: running coding game\n",
      "thing:  ['morningrunning', 'nooncoding', 'nightgame']\n"
     ]
    }
   ],
   "source": [
    "time=[\"morning\",\"noon\",\"night\"]\n",
    "activity=[\"running\",\"coding\",\"game\"]\n",
    "print(\"times:\", time[0], time[1], time[2])\n",
    "print(\"activties:\", activity[0], activity[1], activity[2])\n",
    "thing=[]\n",
    "g=len(time)\n",
    "c=len(activity)\n",
    "if c==g:\n",
    "    for i in range (0, c):\n",
    "        thing.insert(i,time[i]+activity[i])\n",
    "    print(\"thing: \",thing)"
   ]
  },
  {
   "cell_type": "code",
   "execution_count": 30,
   "id": "ca0d721b",
   "metadata": {},
   "outputs": [
    {
     "name": "stdout",
     "output_type": "stream",
     "text": [
      "times: morning noon night\n",
      "activties: running coding game\n",
      "lists are not the same\n"
     ]
    }
   ],
   "source": [
    "time=[\"morning\",\"noon\",\"night\",\"evning\"]\n",
    "activity=[\"running\",\"coding\",\"game\"]\n",
    "print(\"times:\", time[0], time[1], time[2])\n",
    "print(\"activties:\", activity[0], activity[1], activity[2])\n",
    "thing=[]\n",
    "g=len(time)\n",
    "c=len(activity)\n",
    "if c==g:\n",
    "    for i in range (0, c):\n",
    "        thing.insert(i,time[i]+activity[i])\n",
    "    print(\"thing: \",thing)\n",
    "else:\n",
    "    print(\"lists are not the same\")"
   ]
  },
  {
   "cell_type": "code",
   "execution_count": null,
   "id": "2e00e97d",
   "metadata": {},
   "outputs": [],
   "source": []
  }
 ],
 "metadata": {
  "kernelspec": {
   "display_name": "Python 3",
   "language": "python",
   "name": "python3"
  },
  "language_info": {
   "codemirror_mode": {
    "name": "ipython",
    "version": 3
   },
   "file_extension": ".py",
   "mimetype": "text/x-python",
   "name": "python",
   "nbconvert_exporter": "python",
   "pygments_lexer": "ipython3",
   "version": "3.8.8"
  }
 },
 "nbformat": 4,
 "nbformat_minor": 5
}
