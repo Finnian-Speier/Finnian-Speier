{
 "cells": [
  {
   "cell_type": "code",
   "execution_count": 7,
   "id": "ecc8f45d",
   "metadata": {},
   "outputs": [
    {
     "ename": "SyntaxError",
     "evalue": "invalid syntax (<ipython-input-7-bc2f6e12f828>, line 5)",
     "output_type": "error",
     "traceback": [
      "\u001b[1;36m  File \u001b[1;32m\"<ipython-input-7-bc2f6e12f828>\"\u001b[1;36m, line \u001b[1;32m5\u001b[0m\n\u001b[1;33m    \"solid\":{\"500\"}}\u001b[0m\n\u001b[1;37m    ^\u001b[0m\n\u001b[1;31mSyntaxError\u001b[0m\u001b[1;31m:\u001b[0m invalid syntax\n"
     ]
    }
   ],
   "source": [
    "ct={\"money\":{100},\n",
    "    \"investments\":{200}}\n",
    "investments={\"capitail\":{\n",
    "        \"liquid\":{\"200\"}\n",
    "        \"solid\":{\"500\"}}\n",
    "    \"Non liquid wealth\":{\n",
    "        \"House\":{\"300\"}\n",
    "        \"car\":{\"50\"}}}\n",
    "investments"
   ]
  },
  {
   "cell_type": "code",
   "execution_count": null,
   "id": "be046652",
   "metadata": {},
   "outputs": [],
   "source": []
  },
  {
   "cell_type": "code",
   "execution_count": 4,
   "id": "ec08f9ec",
   "metadata": {},
   "outputs": [
    {
     "ename": "SyntaxError",
     "evalue": "unexpected EOF while parsing (<ipython-input-4-c593385857e3>, line 20)",
     "output_type": "error",
     "traceback": [
      "\u001b[1;36m  File \u001b[1;32m\"<ipython-input-4-c593385857e3>\"\u001b[1;36m, line \u001b[1;32m20\u001b[0m\n\u001b[1;33m    dct\u001b[0m\n\u001b[1;37m       ^\u001b[0m\n\u001b[1;31mSyntaxError\u001b[0m\u001b[1;31m:\u001b[0m unexpected EOF while parsing\n"
     ]
    }
   ],
   "source": [
    "dct= {\"Caden\": {\"Age\":19,\n",
    "                \"Interesting Fact\":\"Played Hocky in highschool\"},\n",
    "    \"Jacob\":{\"Age\":21,\n",
    "             \"Interesting Fact\":\"Dc Caton used wrong letter for last name\"},\n",
    "    \"Finnian\":{\"Age\":21,\n",
    "               \"Interesting Fact\":\"Wrestled in high school\"},\n",
    "    \"Genasis\":{\"Age\":20,\n",
    "                    \"Interesting Fact\":\"Tore both ACLs\"},\n",
    "    \"sam\":{\"Age\":23,\n",
    "            \"Interesting Fact\":\"Favorite color is beige\"},\n",
    "    \"Proma\":{},\n",
    "    \"Zach\":{},\n",
    "    \"Jacob R\":{},\n",
    "    \"Brabddon\":{},\n",
    "    \"Gabe\":{},\n",
    "    \"Drew\":{},\n",
    "    \"Isac\":{},\n",
    "    \"kodjo\":{},\n",
    "#the right ket of my computer is broken so it was hard to keep up, I think i have the conspt \n",
    "dct\n"
   ]
  },
  {
   "cell_type": "code",
   "execution_count": 5,
   "id": "2c70a6be",
   "metadata": {},
   "outputs": [
    {
     "ename": "ModuleNotFoundError",
     "evalue": "No module named 'panda'",
     "output_type": "error",
     "traceback": [
      "\u001b[1;31m---------------------------------------------------------------------------\u001b[0m",
      "\u001b[1;31mModuleNotFoundError\u001b[0m                       Traceback (most recent call last)",
      "\u001b[1;32m<ipython-input-5-b15daada45f5>\u001b[0m in \u001b[0;36m<module>\u001b[1;34m\u001b[0m\n\u001b[1;32m----> 1\u001b[1;33m \u001b[1;32mimport\u001b[0m \u001b[0mpanda\u001b[0m\u001b[1;33m\u001b[0m\u001b[1;33m\u001b[0m\u001b[0m\n\u001b[0m\u001b[0;32m      2\u001b[0m \u001b[0mpd\u001b[0m\u001b[1;33m.\u001b[0m\u001b[0mDataFrame\u001b[0m\u001b[1;33m(\u001b[0m\u001b[0mdct\u001b[0m\u001b[1;33m)\u001b[0m\u001b[1;33m.\u001b[0m\u001b[0mT\u001b[0m\u001b[1;33m\u001b[0m\u001b[1;33m\u001b[0m\u001b[0m\n",
      "\u001b[1;31mModuleNotFoundError\u001b[0m: No module named 'panda'"
     ]
    }
   ],
   "source": [
    "import panda\n",
    "pd.DataFrame(dct).T"
   ]
  },
  {
   "cell_type": "code",
   "execution_count": null,
   "id": "9e063d85",
   "metadata": {},
   "outputs": [],
   "source": [
    "dct[\"Joe Biden\"]={\"Age\":78,\n",
    "                 \"Interesting Fact\":\"Plays Mario Kart with his grandchildren\"}"
   ]
  },
  {
   "cell_type": "code",
   "execution_count": null,
   "id": "806b2874",
   "metadata": {},
   "outputs": [],
   "source": [
    "faculty_dict =  {\"William Nganje\":{\"https://www.ndsu.edu/agecon/faculty/william_nganje/#c622350\":\"https://www.ndsu.edu/agecon/faculty/william_nganje/#c622350\", \n",
    "                                     \"Areas of Specialization\":\"Risk management; financial analysis; economics of obesity, food safety and food terrorism; experimental economics; and consumer choice theory\",\n",
    "                                     \"Bio\":\"NA\"},\n",
    "                 \"David Bullock\": {\"https://www.ndsu.edu/agecon/faculty/bullock/#c622728\":\"https://www.ndsu.edu/agecon/faculty/bullock/#c622728\",\n",
    "                                    \"Areas of Specialization\": \"futures and options markets, over-the-counter derivatives, trading, risk management, agrifinance, Monte Carlo simulation, and Big Data\",\n",
    "                                    \"Bio\":\"Dr. David W. Bullock is a Research Associate Professor affiliated with the Center for Trading and Risk at NDSU.  His research interests include futures and options markets, over-the-counter derivatives, trading, risk management, agrifinance, Monte Carlo simulation, and Big Data applications in agriculture.  His academic research in option portfolio theory has been published in both the Journal of Economics and Business and the International Review of Economics and Finance.  Additionally, he was the primary contributor behind the AgriBank Insights publication series which won a National AgriMarketing Association (NAMA) award for the best company publication in 2016. Before coming to NDSU in January 2018, Dr. Bullock held numerous positions for over 25 years in the government and private sectors including the Senior Economist at AgriBank FCB – the regional Farm Credit System funding bank for the Upper Midwest region, Director of Research and Senior Foods Economist at Fortune 500 commodity risk management firm INTL FCStone Inc., the Senior Dairy Analyst at Informa Economics, a Risk Management Specialist with the Minnesota Department of Agriculture, and the Senior Economist at the Minneapolis Grain Exchange. David began his academic career as an Assistant Professor and Extension Marketing Economist at Montana State University after graduating from Iowa State University with a Ph.D. in agricultural economics with fields in agricultural price analysis and econometrics in 1989.  Prior to entering ISU, he received bachelor’s (1982) and master’s (1984) degrees in agricultural economics from Northwest Missouri State University. Dr. Bullock is originally from the small northwestern Missouri farming community of Lathrop which is located 40 miles north of the Kansas City metropolitan area.  While in high school, he served as a regional state Vice-President in the Future Farmers of America (FFA) during his senior year.\"},\n",
    "                 \"James Caton\": {\"https://www.ndsu.edu/centers/pcpe/about/directory/james_caton/\":\"https://www.ndsu.edu/centers/pcpe/about/directory/james_caton/\",\n",
    "                                 \"Areas of Specialization\": \"Entrepreneurship, Institutions, Macroeconomics, Computation\",\n",
    "                                 \"Bio\":\"James Caton is a faculty fellow at the NDSU Center for the Study of Public Choice and Private Enterprise (PCPE) and an assistant professor in the NDSU Department of Agribusiness and Applied Economics. He teaches undergraduate courses in the areas of macroeconomics, international trade, and computation. He specializes in research related to entrepreneurship, agent-based computational economics, market process theory, and monetary economics. His research has been published in the Southern Economic Journal, Erasmus Journal for Philosophy and Economics, Journal of Entrepreneurship and Public Policy and other academic publications. He co-edited Macroeconomics, a two volume set of essays and primary sources that represent the core of macroeconomic thought. He is also a regular contributor to the American Institute for Economic Research's Sound Money Project, which conducts research and promotes awareness about monetary stability and financial privacy. He resides in Fargo with his wife, Ingrid, and their children.\"},\n",
    "                 \"David Englund\": {\"https://www.ndsu.edu/centers/pcpe/about/directory/james_caton/\":\"https://www.ndsu.edu/agecon/faculty/englund/#c622903\",\n",
    "                                 \"Areas of Specialization\": \"Teaches Economic Principles, Led NDSU NAMA to National Champions\",\n",
    "                                 \"Bio\":\"David Englund is a lecturer in the department.  He came to the department with 16 years of teaching experience, having taught Principles of Microeconomics, Principles of Macroeconomics, Money and Banking, Consumer Behavior, Selected Topics in Business, and several other classes.  He also had 10 years’ experience advising student NAMA chapters, having been awarded the Outstanding Advisor of the Year for a Developing Chapter in 2002, and the Outstanding Advisor of the Year award in 2009.\\nDavid primarily teaches Survey of Economics, Principles of Microeconomics, Skills for Academic Success, Agricultural Marketing, and NAMA (co-teaches).  He joined the NAMA team in the 2014-2015 school year as a co-advisor and helped coach the student team to a 3rd place finish in the national student marketing plan competition at the national conference.\\nSome of David’s outside interests are jogging, photography, and writing fiction novels.  His latest release, Camouflaged Encounters has received positive reviews.\"},\n",
    "                 \"Erik Hanson\": {\"https://www.ndsu.edu/agecon/faculty/hanson/#c622905\":\"https://www.ndsu.edu/agecon/faculty/hanson/#c622905\",\n",
    "                                 \"Areas of Specialization\": \"Ag Management, Ag Finance\",\n",
    "                                 \"Bio\":\"Erik Hanson is an Assistant Professor in the Department of Agricultural and Applied Economics. He teaches courses on agribusiness management and agricultural finance. Erik completed his Ph.D. at the University of Minnesota in 2016. Prior to that, Erik completed a master’s degree at the University of Illinois (2013) and a bachelor’s degree at Minnesota State University Moorhead (2011).\"},\n",
    "                 \"Ronald Haugen\": {\"https://www.ndsu.edu/agecon/about_us/faculty/ron_haugen/#c654700\":\"\",\n",
    "                                 \"Areas of Specialization\": \"\",\n",
    "                                 \"Bio\":\"\"},\n",
    "                 \"Robert Hearne\": {\"https://www.ndsu.edu/agecon/faculty/hearne/#c622909\":\"\",\n",
    "                                 \"Areas of Specialization\": \"Farm Management Specialist\",\n",
    "                                 \"Bio\":\"\"},\n",
    "                 \"Jeremy Jackson\": {\"https://www.ndsu.edu/centers/pcpe/about/directory/jeremy_jackson/\":\"\",\n",
    "                                 \"Areas of Specialization\": \"public choice and the political economy\",\n",
    "                                 \"Bio\":\"\"},\n",
    "                 \"Prithviraj Lakkakula\": {\"https://www.ndsu.edu/agecon/faculty/prithviraj_lakkakula/#c623441\":\"\",\n",
    "                                 \"Areas of Specialization\": \" Food and Resource Economics\",\n",
    "                                 \"Bio\":\"\"},\n",
    "                 \"Siew Lim\": {\"https://www.ndsu.edu/agecon/faculty/lim/#c624837\":\"\",\n",
    "                                 \"Areas of Specialization\": \"production economics\",\n",
    "                                 \"Bio\":\"Siew Hoon Lim is an associate professor of economics. Her current research is in applied microeconomics, production economics, industrial organization, transportation and regional development. Her recent research works include transportation and  regional development.  \"},\n",
    "\n",
    "                 \"Raymond March\": {\"https://www.ndsu.edu/centers/pcpe/about/directory/raymond_march/\":\"\",\n",
    "                                 \"Areas of Specialization\": \"Health care\",\n",
    "                                 \"Bio\":\" is a scholar at the Challey Institute for Global Innovation and Growth with the Center for the Study of Public Choice and Private Enterprise and an assistant professor of economics in the Department of Agribusiness and Applied Economics at North Dakota State University. He teaches courses in microeconomics, the history of economic thought, and health economics. His research examines the public and private provision and governance of health care in the United States, particularly in pharmaceutical markets. His research has appeared in Southern Economic Journal, Public Choice, Research Policy, Journal of Institutional Economics, and other academic publications. His popular writings are published in the Washington Examiner, The Hill, Real Clear Health, Health Care News, Sun Sentinel, Foundation for Economic Education, and elsewhere. \"},\n",
    "                 \"Dragan Miljkovic\": {\"https://www.ndsu.edu/agecon/faculty/miljkovic/#c625001\":\"\",\n",
    "                                 \"Areas of Specialization\": \"\",\n",
    "                                 \"Bio\":\"\"},\n",
    "                 \"Frayne Olson\": {\"https://www.ndsu.edu/agecon/faculty/olson/#c625016\":\"\",\n",
    "                                 \"Areas of Specialization\": \"\",\n",
    "                                 \"Bio\":\"\"},\n",
    "                 \"Bryon Parman\": {\"https://www.ndsu.edu/agecon/faculty/parman/#c654590\":\"\",\n",
    "                                 \"The endless void\": \"\",\n",
    "                                 \"He has no mouth and he must scream\":\"\"},\n",
    "                 \"Tim Petry\": {\"https://www.ndsu.edu/agecon/faculty/petry/#c625018\":\"\",\n",
    "                                 \"Areas of Specialization\": \"\",\n",
    "                                 \"Bio\":\"\"},\n",
    "                 \"Xudong Rao\": {\"https://www.ndsu.edu/agecon/faculty/rao/#c629066\":\"\",\n",
    "                                 \"Areas of Specialization\": \"\",\n",
    "                                 \"Bio\":\"\"},\n",
    "                 \"Veeshan Rayamajhee\": {\"https://www.ndsu.edu/centers/pcpe/about/directory/veeshan_rayamajhee/\":\"\",\n",
    "                                 \"Areas of Specialization\": \"\",\n",
    "                                 \"Bio\":\"\"},\n",
    "                 \"David Ripplinger\": {\"https://www.ndsu.edu/agecon/faculty/ripplinger/#c629078\":\"\",\n",
    "                                 \"Areas of Specialization\": \"\",\n",
    "                                 \"Bio\":\"\"},\n",
    "                 \"David Roberts\": {\"https://www.ndsu.edu/agecon/faculty/roberts/#c629137\":\"\",\n",
    "                                 \"Areas of Specialization\": \"\",\n",
    "                                 \"Bio\":\"\"},\n",
    "                 \"Kristi Schweiss\": {\"https://www.ndsu.edu/agecon/faculty/schweiss/#c629139\":\"\",\n",
    "                                 \"Areas of Specialization\": \"\",\n",
    "    \n",
    "                 \"Anupa Sharma\": {\"https://www.ndsu.edu/agecon/faculty/sharma/#c629150\":\"\",\n",
    "                                 \"Areas of Specialization\": \"\",\n",
    "                                 \"Bio\":\"\"},\n",
    "            \n",
    "                 \"Cheryl Wachenheim\": {\"https://www.ndsu.edu/agecon/faculty/wachenheim/#c629162\":\"\",\n",
    "                                 \"Areas of Specialization\": \"\",\n",
    "                                 \"Bio\":\"\"},\n",
    "        \n",
    "                 \"William Wilson\": {\"Website\":\"\",\n",
    "                                 \"Areas of Specialization\": \"\",\n",
    "                                 \"Bio\":\"\"},\n",
    "               \n",
    "                }\n",
    "faculty_dict"
   ]
  },
  {
   "cell_type": "code",
   "execution_count": null,
   "id": "b4583a51",
   "metadata": {},
   "outputs": [],
   "source": [
    "for name in names:\n",
    "    print(name)\n",
    "    for ket in keys:\n",
    "        print(key+\":\", faculty_df)"
   ]
  },
  {
   "cell_type": "code",
   "execution_count": null,
   "id": "0c0206fb",
   "metadata": {},
   "outputs": [],
   "source": [
    "list=[\"a\",\"b\",\"c\"]\n",
    "if \"a\" in list:\n",
    "    print(\"yes\")\n",
    "    elif \"b\" in list:\n",
    "        print(\"no\")\n",
    "        else:\n",
    "            print(\"no\")"
   ]
  },
  {
   "cell_type": "code",
   "execution_count": null,
   "id": "51bd6e49",
   "metadata": {},
   "outputs": [],
   "source": []
  }
 ],
 "metadata": {
  "kernelspec": {
   "display_name": "Python 3",
   "language": "python",
   "name": "python3"
  },
  "language_info": {
   "codemirror_mode": {
    "name": "ipython",
    "version": 3
   },
   "file_extension": ".py",
   "mimetype": "text/x-python",
   "name": "python",
   "nbconvert_exporter": "python",
   "pygments_lexer": "ipython3",
   "version": "3.8.8"
  }
 },
 "nbformat": 4,
 "nbformat_minor": 5
}
