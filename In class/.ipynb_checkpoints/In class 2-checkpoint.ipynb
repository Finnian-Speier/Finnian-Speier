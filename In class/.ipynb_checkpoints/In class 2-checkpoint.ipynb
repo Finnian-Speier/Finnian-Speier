{
 "cells": [
  {
   "cell_type": "code",
   "execution_count": 1,
   "id": "2861c06c",
   "metadata": {},
   "outputs": [
    {
     "name": "stdout",
     "output_type": "stream",
     "text": [
      "[]\n",
      "[1, 2]\n",
      "[0.5, 0.7]\n",
      "['vinnila', 'chocolot', 'straberry']\n",
      "['rabbits feet', 7, 0.49]\n"
     ]
    }
   ],
   "source": [
    "reasons_to_cut_off_toes=[]\n",
    "whole_numbers_bellow_3=[1,2]\n",
    "non_whole_numbers=[0.5,0.7]\n",
    "icecream_flavors=[\"vinnila\",\"chocolot\",\"straberry\"]\n",
    "lucky_things=[\"rabbits feet\",7,0.49]\n",
    "print(reasons_to_cut_off_toes)\n",
    "print(whole_numbers_bellow_3)\n",
    "print(non_whole_numbers)\n",
    "print(icecream_flavors)\n",
    "print(lucky_things)"
   ]
  },
  {
   "cell_type": "code",
   "execution_count": 2,
   "id": "f44030ff",
   "metadata": {},
   "outputs": [
    {
     "name": "stdout",
     "output_type": "stream",
     "text": [
      "[1, 4, 9, 1, 8, 27]\n"
     ]
    }
   ],
   "source": [
    "partA=[1,4,9]\n",
    "partB=[1,8,27]\n",
    "AB=partA+partB\n",
    "print(AB)"
   ]
  },
  {
   "cell_type": "code",
   "execution_count": 3,
   "id": "02776272",
   "metadata": {},
   "outputs": [
    {
     "name": "stdout",
     "output_type": "stream",
     "text": [
      "1\n",
      "16\n",
      "81\n",
      "1\n",
      "64\n",
      "729\n"
     ]
    }
   ],
   "source": [
    "for i in AB:\n",
    "    print(i**2)"
   ]
  },
  {
   "cell_type": "code",
   "execution_count": 4,
   "id": "597e50e6",
   "metadata": {},
   "outputs": [
    {
     "name": "stdout",
     "output_type": "stream",
     "text": [
      "[0, 1, 2, 3, 4, 5]\n",
      "[7, 8, 9, 10, 11, 12, 13, 14, 15, 16]\n",
      "[1, 14, 27, 40, 53, 66, 79, 92]\n"
     ]
    }
   ],
   "source": [
    "x = list(range(6))\n",
    "y = list(range(7,17))\n",
    "z = list(range(1,100,13))\n",
    "\n",
    "print(x)\n",
    "print(y)\n",
    "print(z)"
   ]
  },
  {
   "cell_type": "code",
   "execution_count": 5,
   "id": "01f0baf4",
   "metadata": {},
   "outputs": [
    {
     "name": "stdout",
     "output_type": "stream",
     "text": [
      "0\n",
      "1\n",
      "2\n",
      "3\n",
      "4\n",
      "5\n",
      "6\n",
      "7\n",
      "8\n",
      "9\n",
      "10\n",
      "11\n",
      "12\n",
      "13\n",
      "14\n",
      "15\n",
      "16\n",
      "17\n",
      "18\n",
      "19\n",
      "20\n",
      "21\n",
      "22\n",
      "23\n",
      "24\n",
      "25\n",
      "26\n",
      "27\n",
      "28\n",
      "29\n",
      "30\n",
      "31\n",
      "32\n",
      "33\n",
      "34\n",
      "35\n",
      "36\n",
      "37\n",
      "38\n",
      "39\n",
      "40\n",
      "41\n",
      "42\n",
      "43\n",
      "44\n"
     ]
    }
   ],
   "source": [
    "for p in range(0,45,1):\n",
    "    print(p)\n"
   ]
  },
  {
   "cell_type": "code",
   "execution_count": 6,
   "id": "fc536a81",
   "metadata": {},
   "outputs": [
    {
     "name": "stdout",
     "output_type": "stream",
     "text": [
      "0\n",
      "1\n",
      "2\n",
      "3\n",
      "4\n"
     ]
    }
   ],
   "source": [
    "g=[1,2,3,4,5]\n",
    "for i in range(len(g)):\n",
    "    print(i)"
   ]
  },
  {
   "cell_type": "code",
   "execution_count": 7,
   "id": "efb63cdd",
   "metadata": {},
   "outputs": [
    {
     "name": "stdout",
     "output_type": "stream",
     "text": [
      "nums elements: 1 2 3 4 5\n",
      "squars elements: 1 4 9 16 25\n",
      "numsAndSquars elements: [1, 2, 3, 4, 5, 6, 1, 4, 9, 16, 25, 36]\n"
     ]
    }
   ],
   "source": [
    "nums = [1, 2, 3, 4, 5, 6]\n",
    "squars = [1, 4, 9, 16, 25, 36]\n",
    "\n",
    "print(\"nums elements:\", nums[0], nums[1], nums[2], nums[3], nums[4])\n",
    "print(\"squars elements:\", squars[0], squars[1], squars[2], squars[3], squars[4])\n",
    "\n",
    "numsAndSquars = []\n",
    "j = len(nums)\n",
    "for i in range(j):\n",
    "    numsAndSquars.append(nums[i])\n",
    "\n",
    "k = len(squars)\n",
    "for i in range(k):\n",
    "    numsAndSquars.append(squars[i])\n",
    "\n",
    "print(\"numsAndSquars elements:\", numsAndSquars)\n"
   ]
  },
  {
   "cell_type": "code",
   "execution_count": 8,
   "id": "b4c5f753",
   "metadata": {},
   "outputs": [
    {
     "name": "stdout",
     "output_type": "stream",
     "text": [
      "times: morning noon night\n",
      "activties: running coding game\n",
      "['morning', 'noon', 'night']\n"
     ]
    }
   ],
   "source": [
    "time=[\"morning\",\"noon\",\"night\"]\n",
    "activity=[\"running\",\"coding\",\"game\"]\n",
    "print(\"times:\", time[0], time[1], time[2])\n",
    "print(\"activties:\", activity[0], activity[1], activity[2])\n",
    "thing=[]\n",
    "g=len(time)\n",
    "for i in range (g):\n",
    "    thing.append(time[i])\n",
    "print(thing)\n",
    "\n",
    "\n"
   ]
  },
  {
   "cell_type": "code",
   "execution_count": 9,
   "id": "352c9e75",
   "metadata": {},
   "outputs": [
    {
     "name": "stdout",
     "output_type": "stream",
     "text": [
      "times: morning noon night\n",
      "activties: running coding game\n",
      "Things: ['nightgame', 'nooncoding', 'morningrunning']\n"
     ]
    }
   ],
   "source": [
    "time=[\"morning\",\"noon\",\"night\"]\n",
    "activity=[\"running\",\"coding\",\"game\"]\n",
    "print(\"times:\", time[0], time[1], time[2])\n",
    "print(\"activties:\", activity[0], activity[1], activity[2])\n",
    "thing=[]\n",
    "g=len(time)\n",
    "for i in range (g):\n",
    "    thing.insert(0,time[i] + activity[i])\n",
    "print(\"Things: \"+str(thing))"
   ]
  },
  {
   "cell_type": "code",
   "execution_count": 10,
   "id": "ff988e10",
   "metadata": {},
   "outputs": [
    {
     "name": "stdout",
     "output_type": "stream",
     "text": [
      "runner\n"
     ]
    }
   ],
   "source": [
    "if True:\n",
    "    print(\"runner\")"
   ]
  },
  {
   "cell_type": "code",
   "execution_count": 11,
   "id": "ca7e8220",
   "metadata": {},
   "outputs": [
    {
     "name": "stdout",
     "output_type": "stream",
     "text": [
      "runner\n"
     ]
    }
   ],
   "source": [
    "if True:\n",
    "    print(\"runner\")\n",
    "else:\n",
    "    print(\"walker\")"
   ]
  },
  {
   "cell_type": "code",
   "execution_count": 12,
   "id": "f75a60fb",
   "metadata": {},
   "outputs": [],
   "source": [
    "if False:\n",
    "    print(\"runner\")\n",
    "else:\n",
    "    pass"
   ]
  },
  {
   "cell_type": "code",
   "execution_count": 13,
   "id": "c6be874f",
   "metadata": {},
   "outputs": [
    {
     "name": "stdout",
     "output_type": "stream",
     "text": [
      "times: morning noon night\n",
      "activties: running coding game\n",
      "thing:  ['morningrunning', 'nooncoding', 'nightgame']\n"
     ]
    }
   ],
   "source": [
    "time=[\"morning\",\"noon\",\"night\"]\n",
    "activity=[\"running\",\"coding\",\"game\"]\n",
    "print(\"times:\", time[0], time[1], time[2])\n",
    "print(\"activties:\", activity[0], activity[1], activity[2])\n",
    "thing=[]\n",
    "g=len(time)\n",
    "c=len(activity)\n",
    "if c==g:\n",
    "    for i in range (0, c):\n",
    "        thing.insert(i,time[i]+activity[i])\n",
    "    print(\"thing: \",thing)"
   ]
  },
  {
   "cell_type": "code",
   "execution_count": 14,
   "id": "780cb5b3",
   "metadata": {},
   "outputs": [
    {
     "name": "stdout",
     "output_type": "stream",
     "text": [
      "times: morning noon night\n",
      "activties: running coding game\n",
      "lists are not the same\n"
     ]
    }
   ],
   "source": [
    "time=[\"morning\",\"noon\",\"night\",\"evning\"]\n",
    "activity=[\"running\",\"coding\",\"game\"]\n",
    "print(\"times:\", time[0], time[1], time[2])\n",
    "print(\"activties:\", activity[0], activity[1], activity[2])\n",
    "thing=[]\n",
    "g=len(time)\n",
    "c=len(activity)\n",
    "if c==g:\n",
    "    for i in range (0, c):\n",
    "        thing.insert(i,time[i]+activity[i])\n",
    "    print(\"thing: \",thing)\n",
    "else:\n",
    "    print(\"lists are not the same\")"
   ]
  },
  {
   "cell_type": "code",
   "execution_count": 15,
   "id": "8a5f9bdf",
   "metadata": {},
   "outputs": [
    {
     "name": "stdout",
     "output_type": "stream",
     "text": [
      "lists before deletion: \n",
      "dawn \t running\n",
      "morning \t coding\n",
      "noon \t game\n",
      "night \t biking\n",
      "evning \t driving\n",
      "\n",
      "Deleting unessesary information \n",
      "\n",
      "lists after deletion: \n",
      "dawn \t running\n",
      "noon \t coding\n",
      "night \t game\n",
      "evning \t driving\n"
     ]
    }
   ],
   "source": [
    "time=[\"dawn\",\"morning\",\"noon\",\"night\",\"evning\"]\n",
    "activity=[\"running\",\"coding\",\"game\",\"biking\",\"driving\"]\n",
    "print(\"lists before deletion: \")\n",
    "for i in range(len(time)):\n",
    "    print(time[i],\"\\t\", activity[i])\n",
    "del time[1]\n",
    "del activity[3]\n",
    "print(\"\\nDeleting unessesary information \\n\")\n",
    "print(\"lists after deletion: \")\n",
    "for i in range(len(time)):\n",
    "    print(time[i], \"\\t\",activity[i])"
   ]
  },
  {
   "cell_type": "code",
   "execution_count": 16,
   "id": "05c951bb",
   "metadata": {},
   "outputs": [
    {
     "name": "stdout",
     "output_type": "stream",
     "text": [
      "lists before deletion: \n",
      "dawn \t running\n",
      "morning \t coding\n",
      "noon \t game\n",
      "night \t biking\n",
      "evning \t driving\n",
      "\n",
      "Deleting unessesary information \n",
      "\n",
      "lists after deletion: \n",
      "morning \t coding\n",
      "noon \t game\n",
      "night \t biking\n",
      "evning \t driving\n"
     ]
    }
   ],
   "source": [
    "time=[\"dawn\",\"morning\",\"noon\",\"night\",\"evning\"]\n",
    "activity=[\"running\",\"coding\",\"game\",\"biking\",\"driving\"]\n",
    "print(\"lists before deletion: \")\n",
    "for i in range(len(time)):\n",
    "    print(time[i],\"\\t\", activity[i])\n",
    "time.remove(\"dawn\")\n",
    "activity.remove(\"running\")\n",
    "print(\"\\nDeleting unessesary information \\n\")\n",
    "print(\"lists after deletion: \")\n",
    "for i in range(len(time)):\n",
    "    print(time[i], \"\\t\",activity[i])"
   ]
  },
  {
   "cell_type": "code",
   "execution_count": 17,
   "id": "415e4a64",
   "metadata": {},
   "outputs": [
    {
     "name": "stdout",
     "output_type": "stream",
     "text": [
      "lists before deletion: \n",
      "dawn \t running\n",
      "morning \t coding\n",
      "noon \t game\n",
      "night \t biking\n",
      "evning \t driving\n",
      "\n",
      "Deleting unessesary information \n",
      "\n",
      "lists after deletion: \n",
      "dawn \t running\n",
      "morning \t coding\n",
      "night \t game\n",
      "evning \t driving\n"
     ]
    }
   ],
   "source": [
    "time=[\"dawn\",\"morning\",\"noon\",\"night\",\"evning\"]\n",
    "activity=[\"running\",\"coding\",\"game\",\"biking\",\"driving\"]\n",
    "print(\"lists before deletion: \")\n",
    "if len(time)==len(activity):\n",
    "    for i in range(len(time)):\n",
    "        print(time[i],\"\\t\", activity[i])\n",
    "uesless_times=\"noon\"\n",
    "uesless_activities=\"biking\"\n",
    "activity.remove(uesless_activities)\n",
    "time.remove(uesless_times)\n",
    "print(\"\\nDeleting unessesary information \\n\")\n",
    "print(\"lists after deletion: \")\n",
    "if len(time)==len(activity):\n",
    "    for i in range(len(time)):\n",
    "        print(time[i], \"\\t\",activity[i])"
   ]
  },
  {
   "cell_type": "code",
   "execution_count": 18,
   "id": "66cc4f28",
   "metadata": {},
   "outputs": [
    {
     "name": "stdout",
     "output_type": "stream",
     "text": [
      "lists before deletion: \n",
      "dawn \t running\n",
      "morning \t coding\n",
      "noon \t game\n",
      "night \t biking\n",
      "evning \t driving\n",
      "\n",
      "Deleting unessesary information \n",
      "\n",
      "lists after deletion: \n",
      "dawn \t running\n",
      "noon \t coding\n",
      "night \t biking\n",
      "evning \t driving\n"
     ]
    }
   ],
   "source": [
    "time=[\"dawn\",\"morning\",\"noon\",\"night\",\"evning\"]\n",
    "activity=[\"running\",\"coding\",\"game\",\"biking\",\"driving\"]\n",
    "print(\"lists before deletion: \")\n",
    "for i in range(len(time)):\n",
    "    print(time[i],\"\\t\", activity[i])\n",
    "uesless_times=time.pop(1)\n",
    "uesless_activities=activity.pop(2)\n",
    "print(\"\\nDeleting unessesary information \\n\")\n",
    "print(\"lists after deletion: \")\n",
    "if len(time)==len(activity):\n",
    "    for i in range(len(time)):\n",
    "        print(time[i], \"\\t\",activity[i])"
   ]
  },
  {
   "cell_type": "code",
   "execution_count": 19,
   "id": "43b2fac2",
   "metadata": {},
   "outputs": [
    {
     "name": "stdout",
     "output_type": "stream",
     "text": [
      "prime 1 2 3 5 7\n",
      "prime_squared 1 4 9 25 49\n",
      "other: [2, 12, 56]\n"
     ]
    }
   ],
   "source": [
    "prime=[1,2,3,5,7]\n",
    "prime_squared=[1,4,9,25,49]\n",
    "print(\"prime\",prime[0],prime[1],prime[2],prime[3],prime[4])\n",
    "print(\"prime_squared\",prime_squared[0],prime_squared[1],prime_squared[2],prime_squared[3],prime_squared[4])\n",
    "other=[]\n",
    "p=len(prime)\n",
    "ps=len(prime_squared)\n",
    "if p==ps:\n",
    "    for i in range(0,p,2):\n",
    "        other.append(prime[i]+prime_squared[i])\n",
    "else:\n",
    "    print(\"These lists aren't the same length, cant compute\")\n",
    "print(\"other:\",other)"
   ]
  },
  {
   "cell_type": "code",
   "execution_count": 20,
   "id": "f19a5bae",
   "metadata": {},
   "outputs": [
    {
     "name": "stdout",
     "output_type": "stream",
     "text": [
      "He\n",
      "shoots\n",
      "and\n",
      "and\n",
      "he\n",
      "scores\n"
     ]
    }
   ],
   "source": [
    "basketeball=[\"He\",\"shoots\",\"and\",\"and\",\"he\",\"scores\"]\n",
    "for i in basketeball:\n",
    "    print(i)"
   ]
  },
  {
   "cell_type": "code",
   "execution_count": 21,
   "id": "76466c04",
   "metadata": {},
   "outputs": [
    {
     "name": "stdout",
     "output_type": "stream",
     "text": [
      "He \t He\n",
      "shoots \t shoots\n",
      "and \t and\n",
      "and \t and\n",
      "he \t he\n",
      "scores \t scores\n"
     ]
    }
   ],
   "source": [
    "basketball=[\"He\",\"shoots\",\"and\",\"and\",\"he\",\"scores\"]\n",
    "baseball=[]\n",
    "for x in basketball:\n",
    "    baseball.append(x)\n",
    "\n",
    "for i in range (0,len(basketball)):\n",
    "    print(basketball[i], \"\\t\", baseball[i])\n"
   ]
  },
  {
   "cell_type": "code",
   "execution_count": 22,
   "id": "9c4a3581",
   "metadata": {},
   "outputs": [
    {
     "name": "stdout",
     "output_type": "stream",
     "text": [
      "numbers  [4, 6, 3, 1, 2]\n",
      "words  ['fire', 'water', 'earth', 'air']\n",
      "Sorted numbers  [1, 2, 3, 4, 6]\n",
      "Sorted words  ['air', 'earth', 'fire', 'water']\n"
     ]
    }
   ],
   "source": [
    "numbers=[4,6,3,1,2]\n",
    "words=[\"fire\",\"water\",\"earth\",\"air\"]\n",
    "print(\"numbers \",numbers)\n",
    "print(\"words \",words)\n",
    "sorted_numbers=sorted(numbers)\n",
    "sorted_words=sorted(words)\n",
    "print(\"Sorted numbers \",sorted_numbers)\n",
    "print(\"Sorted words \",sorted_words)"
   ]
  },
  {
   "cell_type": "code",
   "execution_count": 23,
   "id": "e03210cd",
   "metadata": {},
   "outputs": [
    {
     "name": "stdout",
     "output_type": "stream",
     "text": [
      "numbers  [4, 6, 3, 1, 2]\n",
      "words  ['fire', 'water', 'earth', 'air']\n",
      "Stuff  [4, 6, 3, 1, 2, 'fire', 'water', 'earth', 'air']\n"
     ]
    },
    {
     "ename": "TypeError",
     "evalue": "'<' not supported between instances of 'str' and 'int'",
     "output_type": "error",
     "traceback": [
      "\u001b[1;31m---------------------------------------------------------------------------\u001b[0m",
      "\u001b[1;31mTypeError\u001b[0m                                 Traceback (most recent call last)",
      "\u001b[1;32m<ipython-input-23-d4afedd89ac3>\u001b[0m in \u001b[0;36m<module>\u001b[1;34m\u001b[0m\n\u001b[0;32m      9\u001b[0m \u001b[0msorted_numbers\u001b[0m\u001b[1;33m=\u001b[0m\u001b[0msorted\u001b[0m\u001b[1;33m(\u001b[0m\u001b[0mnumbers\u001b[0m\u001b[1;33m)\u001b[0m\u001b[1;33m\u001b[0m\u001b[1;33m\u001b[0m\u001b[0m\n\u001b[0;32m     10\u001b[0m \u001b[0msorted_words\u001b[0m\u001b[1;33m=\u001b[0m\u001b[0msorted\u001b[0m\u001b[1;33m(\u001b[0m\u001b[0mwords\u001b[0m\u001b[1;33m)\u001b[0m\u001b[1;33m\u001b[0m\u001b[1;33m\u001b[0m\u001b[0m\n\u001b[1;32m---> 11\u001b[1;33m \u001b[0msorted_stuff\u001b[0m\u001b[1;33m=\u001b[0m\u001b[0msorted\u001b[0m\u001b[1;33m(\u001b[0m\u001b[0mstuff\u001b[0m\u001b[1;33m)\u001b[0m\u001b[1;33m\u001b[0m\u001b[1;33m\u001b[0m\u001b[0m\n\u001b[0m\u001b[0;32m     12\u001b[0m \u001b[1;33m\u001b[0m\u001b[0m\n\u001b[0;32m     13\u001b[0m \u001b[0mprint\u001b[0m\u001b[1;33m(\u001b[0m\u001b[1;34m\"Sorted numbers \"\u001b[0m\u001b[1;33m,\u001b[0m\u001b[0msorted_numbers\u001b[0m\u001b[1;33m)\u001b[0m\u001b[1;33m\u001b[0m\u001b[1;33m\u001b[0m\u001b[0m\n",
      "\u001b[1;31mTypeError\u001b[0m: '<' not supported between instances of 'str' and 'int'"
     ]
    }
   ],
   "source": [
    "numbers=[4,6,3,1,2]\n",
    "words=[\"fire\",\"water\",\"earth\",\"air\"]\n",
    "stuff=numbers+words\n",
    "\n",
    "print(\"numbers \",numbers)\n",
    "print(\"words \",words)\n",
    "print(\"Stuff \", stuff)\n",
    "\n",
    "sorted_numbers=sorted(numbers)\n",
    "sorted_words=sorted(words)\n",
    "sorted_stuff=sorted(stuff)\n",
    "\n",
    "print(\"Sorted numbers \",sorted_numbers)\n",
    "print(\"Sorted words \",sorted_words)\n",
    "print(\"sorted stuff \",sorted_stuff)"
   ]
  },
  {
   "cell_type": "code",
   "execution_count": null,
   "id": "7830bd3a",
   "metadata": {},
   "outputs": [],
   "source": [
    "numbers=[4,6,3,1,2]\n",
    "words=[\"fire\",\"water\",\"earth\",\"air\"]\n",
    "stuff=numbers+words\n",
    "\n",
    "print(\"numbers \",numbers)\n",
    "print(\"words \",words)\n",
    "print(\"Stuff \", stuff)\n",
    "\n",
    "sorted_numbers=sorted(numbers)\n",
    "sorted_words=sorted(words)\n",
    "try:\n",
    "    sorted_stuff=sorted(stuff)\n",
    "    print(\"sorted stuff \",sorted_stuff)\n",
    "except:\n",
    "     print(\"TypeError: unorderable types: str() < int() \"\n",
    "         \"ignoring error\")\n",
    "\n",
    "print(\"Sorted numbers \",sorted_numbers)\n",
    "print(\"Sorted words \",sorted_words)\n"
   ]
  },
  {
   "cell_type": "code",
   "execution_count": null,
   "id": "a4cc7a09",
   "metadata": {},
   "outputs": [],
   "source": [
    "nums=[1,2,3,4,5]\n",
    "print(nums[:])"
   ]
  },
  {
   "cell_type": "code",
   "execution_count": null,
   "id": "9bb31b24",
   "metadata": {},
   "outputs": [],
   "source": [
    "nums=[1,2,3,4,20]\n",
    "min_index = 0\n",
    "max_index = len(nums)\n",
    "print(\"minimum:\", min_index)\n",
    "print(\"maximum:\", max_index)\n",
    "print(\"Full list using slice\", nums[min_index:max_index])\n",
    "print(\"Full list without slice\", nums)"
   ]
  },
  {
   "cell_type": "code",
   "execution_count": null,
   "id": "a9d89549",
   "metadata": {},
   "outputs": [],
   "source": [
    "num=[1,2,3,4,5,6,7,8,9]\n",
    "min_index = 0\n",
    "max_index = 4\n",
    "part_num=num[min_index:max_index]\n",
    "print(\"num \",num,\"\\npart_num\",part_num)"
   ]
  },
  {
   "cell_type": "code",
   "execution_count": null,
   "id": "ce02a09c",
   "metadata": {},
   "outputs": [],
   "source": [
    "print(\"x\", \"y\")\n",
    "for x in range(10):\n",
    "    for y in range(5):\n",
    "        print(x, y)"
   ]
  },
  {
   "cell_type": "code",
   "execution_count": null,
   "id": "05b4bb09",
   "metadata": {},
   "outputs": [],
   "source": [
    "print(\"x\", \"y\", \"x * y\")\n",
    "for x in range(5):\n",
    "    for y in range(5):\n",
    "        total = x * y\n",
    "        print(x,y,total)"
   ]
  },
  {
   "cell_type": "code",
   "execution_count": null,
   "id": "d2e266c1",
   "metadata": {},
   "outputs": [],
   "source": [
    "nums=[1,2,3,4,5]\n",
    "print(nums)\n",
    "print(\"max of list nums\",max(nums),\"\\nMin of nums\",min(nums))"
   ]
  },
  {
   "cell_type": "code",
   "execution_count": 27,
   "id": "574e8374",
   "metadata": {},
   "outputs": [
    {
     "name": "stdout",
     "output_type": "stream",
     "text": [
      "max of list nums 5 \n",
      "Min of nums 1\n"
     ]
    }
   ],
   "source": [
    "nums=[1,2,3,4,5]\n",
    "min_nums=float(\"inf\")\n",
    "max_nums=float(\"-inf\")\n",
    "for i in nums:\n",
    "    if i < min_nums:\n",
    "        min_nums=i\n",
    "    if i > max_nums:\n",
    "        max_nums=i\n",
    "print(\"max of list nums\",max(nums),\"\\nMin of nums\",min(nums))"
   ]
  },
  {
   "cell_type": "code",
   "execution_count": 37,
   "id": "a822ab81",
   "metadata": {},
   "outputs": [
    {
     "name": "stdout",
     "output_type": "stream",
     "text": [
      "<generator object <genexpr> at 0x000001B38DC47350>\n"
     ]
    },
    {
     "ename": "TypeError",
     "evalue": "'generator' object is not callable",
     "output_type": "error",
     "traceback": [
      "\u001b[1;31m---------------------------------------------------------------------------\u001b[0m",
      "\u001b[1;31mTypeError\u001b[0m                                 Traceback (most recent call last)",
      "\u001b[1;32m<ipython-input-37-2c410c54a11f>\u001b[0m in \u001b[0;36m<module>\u001b[1;34m\u001b[0m\n\u001b[0;32m      2\u001b[0m \u001b[0mprint\u001b[0m\u001b[1;33m(\u001b[0m\u001b[0mnums\u001b[0m\u001b[1;33m)\u001b[0m\u001b[1;33m\u001b[0m\u001b[1;33m\u001b[0m\u001b[0m\n\u001b[0;32m      3\u001b[0m \u001b[1;33m\u001b[0m\u001b[0m\n\u001b[1;32m----> 4\u001b[1;33m \u001b[0mnum_list\u001b[0m \u001b[1;33m=\u001b[0m \u001b[0mlist\u001b[0m\u001b[1;33m(\u001b[0m\u001b[0mnums\u001b[0m\u001b[1;33m)\u001b[0m\u001b[1;33m\u001b[0m\u001b[1;33m\u001b[0m\u001b[0m\n\u001b[0m\u001b[0;32m      5\u001b[0m \u001b[0mprint\u001b[0m\u001b[1;33m(\u001b[0m\u001b[0mlist1\u001b[0m\u001b[1;33m)\u001b[0m\u001b[1;33m\u001b[0m\u001b[1;33m\u001b[0m\u001b[0m\n\u001b[0;32m      6\u001b[0m \u001b[1;33m\u001b[0m\u001b[0m\n",
      "\u001b[1;31mTypeError\u001b[0m: 'generator' object is not callable"
     ]
    }
   ],
   "source": [
    "nums = (x for x in range(10))\n",
    "print(nums)\n",
    "\n",
    "num_list = list(nums)\n",
    "print(num_list)\n",
    "\n",
    "num_list2 = [2 * i for i in range(10)]\n",
    "print(num_list2)\n"
   ]
  },
  {
   "cell_type": "code",
   "execution_count": null,
   "id": "f7bacd0a",
   "metadata": {},
   "outputs": [],
   "source": []
  }
 ],
 "metadata": {
  "kernelspec": {
   "display_name": "Python 3",
   "language": "python",
   "name": "python3"
  },
  "language_info": {
   "codemirror_mode": {
    "name": "ipython",
    "version": 3
   },
   "file_extension": ".py",
   "mimetype": "text/x-python",
   "name": "python",
   "nbconvert_exporter": "python",
   "pygments_lexer": "ipython3",
   "version": "3.8.8"
  }
 },
 "nbformat": 4,
 "nbformat_minor": 5
}
