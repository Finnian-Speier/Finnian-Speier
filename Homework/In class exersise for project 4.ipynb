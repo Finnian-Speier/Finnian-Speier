{
 "cells": [
  {
   "cell_type": "code",
   "execution_count": 4,
   "id": "c3fa7bb8",
   "metadata": {},
   "outputs": [
    {
     "name": "stdout",
     "output_type": "stream",
     "text": [
      "[    1     4     9    16    25    36    49    64    81   100   121   144\n",
      "   169   196   225   256   289   324   361   400   441   484   529   576\n",
      "   625   676   729   784   841   900   961  1024  1089  1156  1225  1296\n",
      "  1369  1444  1521  1600  1681  1764  1849  1936  2025  2116  2209  2304\n",
      "  2401  2500  2601  2704  2809  2916  3025  3136  3249  3364  3481  3600\n",
      "  3721  3844  3969  4096  4225  4356  4489  4624  4761  4900  5041  5184\n",
      "  5329  5476  5625  5776  5929  6084  6241  6400  6561  6724  6889  7056\n",
      "  7225  7396  7569  7744  7921  8100  8281  8464  8649  8836  9025  9216\n",
      "  9409  9604  9801 10000]\n"
     ]
    }
   ],
   "source": [
    "#question 1\n",
    "import numpy as np\n",
    "numbers=[]\n",
    "x=1\n",
    "while x < 101:\n",
    "    numbers.append(x**2)\n",
    "    x+=1\n",
    "numbers_array=np.array(numbers)\n",
    "print(numbers_array)"
   ]
  },
  {
   "cell_type": "code",
   "execution_count": 8,
   "id": "d5800dc4",
   "metadata": {},
   "outputs": [
    {
     "name": "stdout",
     "output_type": "stream",
     "text": [
      "[[0. 0. 0.]\n",
      " [0. 0. 0.]\n",
      " [0. 0. 0.]]\n"
     ]
    }
   ],
   "source": [
    "#question 2\n",
    "Q2A = np.zeros((3, 3))\n",
    "Q2B = np.ones((3, 3))\n",
    "result=Q2A*Q2B\n",
    "print(result)"
   ]
  },
  {
   "cell_type": "code",
   "execution_count": 12,
   "id": "9a00b46e",
   "metadata": {},
   "outputs": [
    {
     "data": {
      "text/html": [
       "<div>\n",
       "<style scoped>\n",
       "    .dataframe tbody tr th:only-of-type {\n",
       "        vertical-align: middle;\n",
       "    }\n",
       "\n",
       "    .dataframe tbody tr th {\n",
       "        vertical-align: top;\n",
       "    }\n",
       "\n",
       "    .dataframe thead th {\n",
       "        text-align: right;\n",
       "    }\n",
       "</style>\n",
       "<table border=\"1\" class=\"dataframe\">\n",
       "  <thead>\n",
       "    <tr style=\"text-align: right;\">\n",
       "      <th></th>\n",
       "      <th>simple</th>\n",
       "      <th>Complex</th>\n",
       "    </tr>\n",
       "  </thead>\n",
       "  <tbody>\n",
       "    <tr>\n",
       "      <th>Array1</th>\n",
       "      <td>[[0.0, 0.0, 0.0], [0.0, 0.0, 0.0], [0.0, 0.0, ...</td>\n",
       "      <td>[[1.0, 1.0, 1.0], [1.0, 1.0, 1.0], [1.0, 1.0, ...</td>\n",
       "    </tr>\n",
       "    <tr>\n",
       "      <th>Array2</th>\n",
       "      <td>[[1.0, 1.0, 1.0], [1.0, 1.0, 1.0], [1.0, 1.0, ...</td>\n",
       "      <td>[[0.0, 0.0, 0.0], [0.0, 0.0, 0.0], [0.0, 0.0, ...</td>\n",
       "    </tr>\n",
       "  </tbody>\n",
       "</table>\n",
       "</div>"
      ],
      "text/plain": [
       "                                                   simple  \\\n",
       "Array1  [[0.0, 0.0, 0.0], [0.0, 0.0, 0.0], [0.0, 0.0, ...   \n",
       "Array2  [[1.0, 1.0, 1.0], [1.0, 1.0, 1.0], [1.0, 1.0, ...   \n",
       "\n",
       "                                                  Complex  \n",
       "Array1  [[1.0, 1.0, 1.0], [1.0, 1.0, 1.0], [1.0, 1.0, ...  \n",
       "Array2  [[0.0, 0.0, 0.0], [0.0, 0.0, 0.0], [0.0, 0.0, ...  "
      ]
     },
     "execution_count": 12,
     "metadata": {},
     "output_type": "execute_result"
    }
   ],
   "source": [
    "#Question 3\n",
    "import pandas as pd\n",
    "Q3A= np.ones((3,3))\n",
    "Q3B=np.zeros((3,3))\n",
    "dic={\"simple\":{\"Array1\":Q2A,\"Array2\":Q2B},\n",
    "     \"Complex\":{\"Array1\":Q3A,\"Array2\":Q3B}}\n",
    "dic_df=pd.DataFrame(dic)\n",
    "dic_df\n"
   ]
  },
  {
   "cell_type": "code",
   "execution_count": 21,
   "id": "d19e1fca",
   "metadata": {},
   "outputs": [
    {
     "name": "stdout",
     "output_type": "stream",
     "text": [
      "                  States  Cost of haircut  Education\n",
      "0                Alabama               21       1000\n",
      "1                 Alaska               15       1650\n",
      "2                Arizona               18       1500\n",
      "3               Arkansas               15       1500\n",
      "4             California               35       1500\n",
      "5               Colorado               21       1500\n",
      "6            Connecticut               20       1000\n",
      "7               Delaware               27       1500\n",
      "8   District of Columbia               20       1500\n",
      "9                Florida               16       1200\n",
      "10               Georgia               18       1500\n",
      "11                Hawaii               25       1500\n",
      "12                 Idaho               13        900\n",
      "13              Illinois               23       1500\n",
      "14               Indiana               18       1500\n",
      "15                  Iowa               18       2100\n",
      "16                Kansas               15       1500\n",
      "17              Kentucky               15       1500\n",
      "18             Louisiana               20       1500\n",
      "19                 Maine               16       1500\n",
      "20              Maryland               20       1200\n",
      "21         Massachusetts               22       1000\n",
      "22              Michigan               19       1800\n",
      "23             Minnesota               20       1500\n",
      "24           Mississippi               20       1500\n",
      "25              Missouri               19       1000\n",
      "26               Montana               20       1500\n",
      "27              Nebraska               16       2100\n",
      "28                Nevada               20       1500\n",
      "29         New Hampshire               17        800\n",
      "30            New Jersey               21        900\n",
      "31            New Mexico               19       1200\n",
      "32              New York               37        231\n",
      "33        North Carolina               19       1528\n",
      "34          North Dakota               18       1550\n",
      "35                  Ohio               16       1800\n",
      "36              Oklahoma               17       1500\n",
      "37                Oregon               23       1350\n",
      "38          Pennsylvania               18       1250\n",
      "39          Rhode Island               17       1500\n",
      "40        South Carolina               19       1500\n",
      "41          South Dakota               17       1500\n",
      "42             Tennessee               19       1500\n",
      "43                 Texas               17       1500\n",
      "44                  Utah               19       1000\n",
      "45               Vermont               17       1000\n",
      "46              Virginia               18       1500\n",
      "47            Washington               20       1000\n",
      "48         West Virginia               17       1200\n",
      "49             Wisconsin               17       1000\n",
      "50               Wyoming               16       1000\n"
     ]
    }
   ],
   "source": []
  },
  {
   "cell_type": "code",
   "execution_count": 55,
   "id": "b64f88ca",
   "metadata": {},
   "outputs": [
    {
     "name": "stdout",
     "output_type": "stream",
     "text": [
      "                  States  Education  Adjusted haircut cost\n",
      "0                Alabama       1000              30.279559\n",
      "1                 Alaska       1650              12.348398\n",
      "2                Arizona       1500              19.101770\n",
      "3               Arkansas       1500              22.649528\n",
      "4             California       1500              20.001986\n",
      "5               Colorado       1500              15.681889\n",
      "6            Connecticut       1000              15.962285\n",
      "7               Delaware       1500              18.879009\n",
      "8   District of Columbia       1500              20.055749\n",
      "9                Florida       1200              14.480503\n",
      "10               Georgia       1500              20.524564\n",
      "11                Hawaii       1500              14.500202\n",
      "12                 Idaho        900              15.110662\n",
      "13              Illinois       1500              22.622693\n",
      "14               Indiana       1500              23.272237\n",
      "15                  Iowa       2100              24.505203\n",
      "16                Kansas       1500              20.537583\n",
      "17              Kentucky       1500              19.912362\n",
      "18             Louisiana       1500              23.116466\n",
      "19                 Maine       1500              15.705321\n",
      "20              Maryland       1200              15.926951\n",
      "21         Massachusetts       1000              14.057726\n",
      "22              Michigan       1800              24.631532\n",
      "23             Minnesota       1500              19.861974\n",
      "24           Mississippi       1500              27.279621\n",
      "25              Missouri       1000              26.113658\n",
      "26               Montana       1500              23.322528\n",
      "27              Nebraska       2100              18.375100\n",
      "28                Nevada       1500              20.224877\n",
      "29         New Hampshire        800              13.994851\n",
      "30            New Jersey        900              14.655189\n",
      "31            New Mexico       1200              22.784167\n",
      "32              New York        231              25.972195\n",
      "33        North Carolina       1528              22.633278\n",
      "34          North Dakota       1550              20.079070\n",
      "35                  Ohio       1800              20.686433\n",
      "36              Oklahoma       1500              25.750526\n",
      "37                Oregon       1350              19.388987\n",
      "38          Pennsylvania       1250              20.855072\n",
      "39          Rhode Island       1500              14.181449\n",
      "40        South Carolina       1500              22.614557\n",
      "41          South Dakota       1500              20.167354\n",
      "42             Tennessee       1500              23.712923\n",
      "43                 Texas       1500              16.813058\n",
      "44                  Utah       1000              17.916776\n",
      "45               Vermont       1000              15.298937\n",
      "46              Virginia       1500              17.838843\n",
      "47            Washington       1000              15.658324\n",
      "48         West Virginia       1200              27.548423\n",
      "49             Wisconsin       1000              21.439965\n",
      "50               Wyoming       1000              20.038294\n"
     ]
    }
   ],
   "source": [
    "#question 4\n",
    "import pandas as pd\n",
    "import matplotlib.pyplot as plt\n",
    "import numpy as np \n",
    "df=pd.read_excel(r\"C:\\Users\\The Grand Tabaxi\\OneDrive\\Documents\\econ 411 log data.xlsx\")\n",
    "dic=pd.DataFrame(df)\n",
    "dic=dic[[\"States\",\"Education\",\"Adjusted haircut cost\"]]\n",
    "print(dic)"
   ]
  },
  {
   "cell_type": "code",
   "execution_count": 66,
   "id": "a30dbf71",
   "metadata": {},
   "outputs": [
    {
     "name": "stdout",
     "output_type": "stream",
     "text": [
      "                  States  Education  Adjusted haircut cost  \\\n",
      "0                Alabama     1000.0              30.279559   \n",
      "1                 Alaska     1650.0              12.348398   \n",
      "2                Arizona     1500.0              19.101770   \n",
      "3               Arkansas     1500.0              22.649528   \n",
      "4             California     1500.0              20.001986   \n",
      "5               Colorado     1500.0              15.681889   \n",
      "6            Connecticut     1000.0              15.962285   \n",
      "7               Delaware     1500.0              18.879009   \n",
      "8   District of Columbia     1500.0              20.055749   \n",
      "9                Florida     1200.0              14.480503   \n",
      "10               Georgia     1500.0              20.524564   \n",
      "11                Hawaii     1500.0              14.500202   \n",
      "12                 Idaho      900.0              15.110662   \n",
      "13              Illinois     1500.0              22.622693   \n",
      "14               Indiana     1500.0              23.272237   \n",
      "15                  Iowa     2100.0              24.505203   \n",
      "16                Kansas     1500.0              20.537583   \n",
      "17              Kentucky     1500.0              19.912362   \n",
      "18             Louisiana     1500.0              23.116466   \n",
      "19                 Maine     1500.0              15.705321   \n",
      "20              Maryland     1200.0              15.926951   \n",
      "21         Massachusetts     1000.0              14.057726   \n",
      "22              Michigan     1800.0              24.631532   \n",
      "23             Minnesota     1500.0              19.861974   \n",
      "24           Mississippi     1500.0              27.279621   \n",
      "25              Missouri     1000.0              26.113658   \n",
      "26               Montana     1500.0              23.322528   \n",
      "27              Nebraska     2100.0              18.375100   \n",
      "28                Nevada     1500.0              20.224877   \n",
      "29         New Hampshire      800.0              13.994851   \n",
      "30            New Jersey      900.0              14.655189   \n",
      "31            New Mexico     1200.0              22.784167   \n",
      "32              New York      231.0              25.972195   \n",
      "33        North Carolina     1528.0              22.633278   \n",
      "34          North Dakota     1550.0              20.079070   \n",
      "35                  Ohio     1800.0              20.686433   \n",
      "36              Oklahoma     1500.0              25.750526   \n",
      "37                Oregon     1350.0              19.388987   \n",
      "38          Pennsylvania     1250.0              20.855072   \n",
      "39          Rhode Island     1500.0              14.181449   \n",
      "40        South Carolina     1500.0              22.614557   \n",
      "41          South Dakota     1500.0              20.167354   \n",
      "42             Tennessee     1500.0              23.712923   \n",
      "43                 Texas     1500.0              16.813058   \n",
      "44                  Utah     1000.0              17.916776   \n",
      "45               Vermont     1000.0              15.298937   \n",
      "46              Virginia     1500.0              17.838843   \n",
      "47            Washington     1000.0              15.658324   \n",
      "48         West Virginia     1200.0              27.548423   \n",
      "49             Wisconsin     1000.0              21.439965   \n",
      "50               Wyoming     1000.0              20.038294   \n",
      "\n",
      "    Ratio of hours to education           \\  \n",
      "0                     33.025580   33.025580  \n",
      "1                    133.620570  133.620570  \n",
      "2                     78.526755   78.526755  \n",
      "3                     66.226546   66.226546  \n",
      "4                     74.992554   74.992554  \n",
      "5                     95.651742   95.651742  \n",
      "6                     62.647672   62.647672  \n",
      "7                     79.453324   79.453324  \n",
      "8                     74.791522   74.791522  \n",
      "9                     82.870049   82.870049  \n",
      "10                    73.083160   73.083160  \n",
      "11                   103.446838  103.446838  \n",
      "12                    59.560592   59.560592  \n",
      "13                    66.305103   66.305103  \n",
      "14                    64.454482   64.454482  \n",
      "15                    85.696085   85.696085  \n",
      "16                    73.036831   73.036831  \n",
      "17                    75.330090   75.330090  \n",
      "18                    64.888812   64.888812  \n",
      "19                    95.509034   95.509034  \n",
      "20                    75.343989   75.343989  \n",
      "21                    71.135258   71.135258  \n",
      "22                    73.077064   73.077064  \n",
      "23                    75.521195   75.521195  \n",
      "24                    54.986101   54.986101  \n",
      "25                    38.294137   38.294137  \n",
      "26                    64.315497   64.315497  \n",
      "27                   114.285094  114.285094  \n",
      "28                    74.166088   74.166088  \n",
      "29                    57.163880   57.163880  \n",
      "30                    61.411695   61.411695  \n",
      "31                    52.668154   52.668154  \n",
      "32                     8.894127    8.894127  \n",
      "33                    67.511210   67.511210  \n",
      "34                    77.194811   77.194811  \n",
      "35                    87.013551   87.013551  \n",
      "36                    58.251237   58.251237  \n",
      "37                    69.627157   69.627157  \n",
      "38                    59.937457   59.937457  \n",
      "39                   105.771982  105.771982  \n",
      "40                    66.328957   66.328957  \n",
      "41                    74.377632   74.377632  \n",
      "42                    63.256648   63.256648  \n",
      "43                    89.216368   89.216368  \n",
      "44                    55.813613   55.813613  \n",
      "45                    65.364019   65.364019  \n",
      "46                    84.086171   84.086171  \n",
      "47                    63.863794   63.863794  \n",
      "48                    43.559662   43.559662  \n",
      "49                    46.641867   46.641867  \n",
      "50                    49.904448   49.904448  \n"
     ]
    }
   ],
   "source": [
    "#question 5\n",
    "dic[\"Education\"]=dic[\"Education\"].astype(float)\n",
    "dic[\"Adjusted haircut cost\"]=dic[\"Adjusted haircut cost\"].astype(float)\n",
    "cd=dic[\"Education\"].div(dic[\"Adjusted haircut cost\"]).to_frame(\"Ratio of hours to education\")\n",
    "#dic[\"\\\\\"]=cd\n",
    "print(dic)"
   ]
  },
  {
   "cell_type": "code",
   "execution_count": 75,
   "id": "7f8a79ef",
   "metadata": {},
   "outputs": [
    {
     "name": "stdout",
     "output_type": "stream",
     "text": [
      "Education\n",
      "[1000. 1650. 1500. 1500. 1500. 1500. 1000. 1500. 1500. 1200. 1500. 1500.\n",
      "  900. 1500. 1500. 2100. 1500. 1500. 1500. 1500. 1200. 1000. 1800. 1500.\n",
      " 1500. 1000. 1500. 2100. 1500.  800.  900. 1200.  231. 1528. 1550. 1800.\n",
      " 1500. 1350. 1250. 1500. 1500. 1500. 1500. 1500. 1000. 1000. 1500. 1000.\n",
      " 1200. 1000. 1000.]\n",
      "Adjusted haircut cost\n",
      "[30.27955912 12.34839817 19.10176991 22.64952781 20.0019857  15.68188895\n",
      " 15.96228508 18.87900875 20.05574913 14.48050314 20.52456418 14.50020153\n",
      " 15.11066236 22.6226931  23.2722372  24.50520341 20.53758325 19.91236162\n",
      " 23.11646586 15.7053206  15.92695075 14.05772647 24.63153153 19.86197378\n",
      " 27.27962085 26.11365807 23.32252836 18.37509976 20.22487702 13.99485126\n",
      " 14.65518914 22.78416667 25.97219512 22.63327815 20.07906977 20.68643306\n",
      " 25.75052632 19.38898653 20.85507246 14.18144928 22.61455749 20.16735367\n",
      " 23.71292281 16.81305842 17.91677588 15.29893684 17.83884298 15.65832427\n",
      " 27.54842342 21.43996494 20.03829417]\n",
      "Adjusted haircut cost\n",
      "[30.27955912 12.34839817 19.10176991 22.64952781 20.0019857  15.68188895\n",
      " 15.96228508 18.87900875 20.05574913 14.48050314 20.52456418 14.50020153\n",
      " 15.11066236 22.6226931  23.2722372  24.50520341 20.53758325 19.91236162\n",
      " 23.11646586 15.7053206  15.92695075 14.05772647 24.63153153 19.86197378\n",
      " 27.27962085 26.11365807 23.32252836 18.37509976 20.22487702 13.99485126\n",
      " 14.65518914 22.78416667 25.97219512 22.63327815 20.07906977 20.68643306\n",
      " 25.75052632 19.38898653 20.85507246 14.18144928 22.61455749 20.16735367\n",
      " 23.71292281 16.81305842 17.91677588 15.29893684 17.83884298 15.65832427\n",
      " 27.54842342 21.43996494 20.03829417]\n"
     ]
    }
   ],
   "source": [
    "#question 6\n",
    "for i in dic[[\"Education\",\"Adjusted haircut cost\",\"Adjusted haircut cost\"]]:\n",
    "    print(i)\n",
    "    print(dic[i].values)\n"
   ]
  },
  {
   "cell_type": "code",
   "execution_count": 76,
   "id": "14089caf",
   "metadata": {},
   "outputs": [
    {
     "name": "stdout",
     "output_type": "stream",
     "text": [
      "                  States  Education  Adjusted haircut cost\n",
      "0                Alabama     1000.0              30.279559\n",
      "1                 Alaska     1650.0              12.348398\n",
      "2                Arizona     1500.0              19.101770\n",
      "3               Arkansas     1500.0              22.649528\n",
      "4             California     1500.0              20.001986\n",
      "5               Colorado     1500.0              15.681889\n",
      "6            Connecticut     1000.0              15.962285\n",
      "7               Delaware     1500.0              18.879009\n",
      "8   District of Columbia     1500.0              20.055749\n",
      "9                Florida     1200.0              14.480503\n",
      "10               Georgia     1500.0              20.524564\n",
      "11                Hawaii     1500.0              14.500202\n",
      "12                 Idaho      900.0              15.110662\n",
      "13              Illinois     1500.0              22.622693\n",
      "14               Indiana     1500.0              23.272237\n",
      "15                  Iowa     2100.0              24.505203\n",
      "16                Kansas     1500.0              20.537583\n",
      "17              Kentucky     1500.0              19.912362\n",
      "18             Louisiana     1500.0              23.116466\n",
      "19                 Maine     1500.0              15.705321\n",
      "20              Maryland     1200.0              15.926951\n",
      "21         Massachusetts     1000.0              14.057726\n",
      "22              Michigan     1800.0              24.631532\n",
      "23             Minnesota     1500.0              19.861974\n",
      "24           Mississippi     1500.0              27.279621\n",
      "25              Missouri     1000.0              26.113658\n",
      "26               Montana     1500.0              23.322528\n",
      "27              Nebraska     2100.0              18.375100\n",
      "28                Nevada     1500.0              20.224877\n",
      "29         New Hampshire      800.0              13.994851\n",
      "30            New Jersey      900.0              14.655189\n",
      "31            New Mexico     1200.0              22.784167\n",
      "32              New York      231.0              25.972195\n",
      "33        North Carolina     1528.0              22.633278\n",
      "34          North Dakota     1550.0              20.079070\n",
      "35                  Ohio     1800.0              20.686433\n",
      "36              Oklahoma     1500.0              25.750526\n",
      "37                Oregon     1350.0              19.388987\n",
      "38          Pennsylvania     1250.0              20.855072\n",
      "39          Rhode Island     1500.0              14.181449\n",
      "40        South Carolina     1500.0              22.614557\n",
      "41          South Dakota     1500.0              20.167354\n",
      "42             Tennessee     1500.0              23.712923\n",
      "43                 Texas     1500.0              16.813058\n",
      "44                  Utah     1000.0              17.916776\n",
      "45               Vermont     1000.0              15.298937\n",
      "46              Virginia     1500.0              17.838843\n",
      "47            Washington     1000.0              15.658324\n",
      "48         West Virginia     1200.0              27.548423\n",
      "49             Wisconsin     1000.0              21.439965\n",
      "50               Wyoming     1000.0              20.038294\n"
     ]
    }
   ],
   "source": [
    "#question 7\n",
    "def plt(a,b):\n",
    "    return dic[[\"States\",a,b]]\n",
    "print(plt(\"Education\",\"Adjusted haircut cost\"))"
   ]
  },
  {
   "cell_type": "code",
   "execution_count": 88,
   "id": "3ba2cd52",
   "metadata": {},
   "outputs": [
    {
     "data": {
      "text/plain": [
       "<AxesSubplot:xlabel='States'>"
      ]
     },
     "execution_count": 88,
     "metadata": {},
     "output_type": "execute_result"
    },
    {
     "data": {
      "image/png": "[encoded data removed]",
      "text/plain": [
       "<Figure size 432x288 with 1 Axes>"
      ]
     },
     "metadata": {
      "needs_background": "light"
     },
     "output_type": "display_data"
    }
   ],
   "source": [
    "#question 8\n",
    "import pandas as pd\n",
    "dic.plot.bar(x=\"States\", y=\"Adjusted haircut cost\")"
   ]
  },
  {
   "cell_type": "code",
   "execution_count": 90,
   "id": "db9a6c3c",
   "metadata": {},
   "outputs": [
    {
     "data": {
      "text/plain": [
       "<AxesSubplot:xlabel='States'>"
      ]
     },
     "execution_count": 90,
     "metadata": {},
     "output_type": "execute_result"
    },
    {
     "data": {
      "image/png": "[encoded data removed]",
      "text/plain": [
       "<Figure size 1440x360 with 1 Axes>"
      ]
     },
     "metadata": {
      "needs_background": "light"
     },
     "output_type": "display_data"
    }
   ],
   "source": [
    "#question 9\n",
    "import pandas as pd\n",
    "dic.plot.bar(x=\"States\", y=\"Adjusted haircut cost\",  rot=-90,figsize = (20, 5),grid=\"true\")"
   ]
  },
  {
   "cell_type": "code",
   "execution_count": null,
   "id": "79945153",
   "metadata": {},
   "outputs": [],
   "source": []
  }
 ],
 "metadata": {
  "kernelspec": {
   "display_name": "Python 3",
   "language": "python",
   "name": "python3"
  },
  "language_info": {
   "codemirror_mode": {
    "name": "ipython",
    "version": 3
   },
   "file_extension": ".py",
   "mimetype": "text/x-python",
   "name": "python",
   "nbconvert_exporter": "python",
   "pygments_lexer": "ipython3",
   "version": "3.8.8"
  }
 },
 "nbformat": 4,
 "nbformat_minor": 5
}
