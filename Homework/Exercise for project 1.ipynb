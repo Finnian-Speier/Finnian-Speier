{
 "cells": [
  {
   "cell_type": "code",
   "execution_count": null,
   "id": "549c2fe7",
   "metadata": {},
   "outputs": [],
   "source": [
    "# 1\n",
    "x=\"Finnian Speier\"\n",
    "print(x)\n",
    "y=\"I am a 21 year old collage student, who is studying economics and history\"\n",
    "print(y)\n",
    "# 2\n",
    "twoToTheForth=2**4\n",
    "double=2*twoToTheForth\n",
    "print(double)\n",
    "string=str(twoToTheForth)\n",
    "doublestr=string*2\n",
    "print(doublestr)\n",
    "# 3\n",
    "escape=(\"This one lets you put text on a new line \\n, this one prints a \\\n",
    "backslash // and this one \\\n",
    "prints a single quote \\', finnally this one prints a double quote \\\" ps all the random \\\n",
    "allow this one line to be split up over several lines witch is anouther escape!\")\n",
    "# 4\n",
    "floAt= 1.23\n",
    "intager= 1\n",
    "print(floAt+intager)\n",
    "# this is a float\n",
    "#5\n",
    "bignum=((2**1024)+1)\n",
    "print(bignum)\n",
    "# 1797693134862315907729305190789024733617976978942306572734300811577326758055 \\\n",
    "# 0096313270847732240753602112011387987139335765878976881441662249284743063947 \\\n",
    "# 412437776789342486548527630221960124609411945308295208500576883815068234246288 \\\n",
    "# 473913110540827237163350510684586298239947245938479716304835356329624224137217.5\n",
    "#^ thats the final result to 5\n",
    "# 6\n",
    "import string\n",
    "print (string.__dict__)\n",
    "#its all the attributes of a string\n",
    "#7\n",
    "pool=\"the cool of the pool\"\n",
    "print(pool.upper())\n",
    "POOL=\"THE COOL OF THE POOL\"\n",
    "print(POOL.lower())\n",
    "print(max(pool))\n",
    "print(min(pool))\n",
    "print(pool.isalpha())\n",
    "#8\n",
    "z=\"fun\"\n",
    "XandYandZ=x+y+z\n",
    "print(XandYandZ)\n",
    "print(\"My name is blurry face \\n and i care what you \\n think\")\n"
   ]
  }
 ],
 "metadata": {
  "kernelspec": {
   "display_name": "Python 3",
   "language": "python",
   "name": "python3"
  },
  "language_info": {
   "codemirror_mode": {
    "name": "ipython",
    "version": 3
   },
   "file_extension": ".py",
   "mimetype": "text/x-python",
   "name": "python",
   "nbconvert_exporter": "python",
   "pygments_lexer": "ipython3",
   "version": "3.8.8"
  }
 },
 "nbformat": 4,
 "nbformat_minor": 5
}
