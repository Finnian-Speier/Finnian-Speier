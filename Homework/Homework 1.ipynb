{
 "cells": [
  {
   "cell_type": "code",
   "execution_count": 16,
   "id": "175635bc",
   "metadata": {},
   "outputs": [
    {
     "name": "stdout",
     "output_type": "stream",
     "text": [
      "[3, 6, 9, 12, 15, 18, 21, 24, 27, 30, 33, 36, 39, 42, 45, 48, 51, 54, 57, 60, 63, 66, 69, 72, 75, 78, 81, 84, 87, 90, 93, 96, 99]\n",
      "['3', '6', '9', '12', '15', '18', '21', '24', '27', '30', '33', '36', '39', '42', '45', '48', '51', '54', '57', '60', '63', '66', '69', '72', '75', '78', '81', '84', '87', '90', '93', '96', '99']\n",
      "369121518212427303336394245485154576063666972757881848790939699\n",
      "['99', '96', '93', '90', '87', '84', '81', '78', '75', '72', '69', '66', '63', '60', '57', '54', '51', '48', '45', '42', '39', '36', '33', '30', '27', '24', '21', '18', '15', '12', '9', '6', '3']\n",
      "[51, 54, 57, 60, 63, 66, 69, 72, 75, 78, 81, 84, 87, 90, 93, 96, 99]\n"
     ]
    },
    {
     "data": {
      "text/plain": [
       "[3, 9, 15, 21, 27, 33, 39, 45, 51, 57, 63, 69, 75, 81, 87, 93, 99]"
      ]
     },
     "execution_count": 16,
     "metadata": {},
     "output_type": "execute_result"
    }
   ],
   "source": [
    "#1\n",
    "x=0\n",
    "Q1=[]\n",
    "# needed to make the next like for question 2\n",
    "Q2=[]\n",
    "while x < 99:   \n",
    "    x+=3\n",
    "    #this is also a part of question 2 hope this works\n",
    "    Q1.append(x)\n",
    "    Q2.append(str(x))\n",
    "print(Q1)\n",
    "#Question 2\n",
    "print(Q2)\n",
    "#question 3\n",
    "Q3=\"\"\n",
    "for i in Q2:\n",
    "    Q3+=i\n",
    "    \n",
    "print (Q3)    \n",
    "#question 4\n",
    "length=len(Q2)\n",
    "Q4=Q2\n",
    "while length >=0:\n",
    "    Q4.append(Q4[length-1])\n",
    "    length-=1\n",
    "    Q4.pop(length)\n",
    "print(Q4)\n",
    "#question 5\n",
    "length=len(Q1)\n",
    "half=length/2\n",
    "half=round(half)\n",
    "print(Q1[half:])\n",
    "#question 6\n",
    "Q6=Q1[::2]\n",
    "Q6\n",
    "#question 7\n",
    "#Tuples cant be changed at runtime while lists can be"
   ]
  },
  {
   "cell_type": "code",
   "execution_count": null,
   "id": "42268327",
   "metadata": {},
   "outputs": [],
   "source": []
  }
 ],
 "metadata": {
  "kernelspec": {
   "display_name": "Python 3",
   "language": "python",
   "name": "python3"
  },
  "language_info": {
   "codemirror_mode": {
    "name": "ipython",
    "version": 3
   },
   "file_extension": ".py",
   "mimetype": "text/x-python",
   "name": "python",
   "nbconvert_exporter": "python",
   "pygments_lexer": "ipython3",
   "version": "3.8.8"
  }
 },
 "nbformat": 4,
 "nbformat_minor": 5
}
